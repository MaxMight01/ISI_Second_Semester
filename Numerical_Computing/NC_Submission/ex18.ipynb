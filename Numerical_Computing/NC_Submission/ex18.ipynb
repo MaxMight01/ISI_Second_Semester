{
 "cells": [
  {
   "cell_type": "markdown",
   "metadata": {},
   "source": [
    "4. Write a function that gives the Taylor series approximation to the `np.exp` function around 0 for an order 1 through 7. Calculate the truncation error bound for order 7."
   ]
  },
  {
   "cell_type": "code",
   "execution_count": 1,
   "metadata": {},
   "outputs": [
    {
     "name": "stdout",
     "output_type": "stream",
     "text": [
      "Taylor series approximation of e^1 (order 7): 2.7182539682539684\n",
      "Truncation error bound for order 7: 6.741770407884536e-05\n",
      "Actual exp(1): 2.718281828459045\n"
     ]
    }
   ],
   "source": [
    "import numpy as np\n",
    "import math\n",
    "\n",
    "def taylor_exp(x, order=7):\n",
    "    approx = sum((x**n) / math.factorial(n) for n in range(order + 1))\n",
    "    return approx\n",
    "\n",
    "def truncation_error_bound(x, order=7):\n",
    "    error_bound = (np.exp(x) * x**(order + 1)) / math.factorial(order + 1)\n",
    "    return error_bound\n",
    "\n",
    "x_value = 1\n",
    "order = 7\n",
    "taylor_approx = taylor_exp(x_value, order)\n",
    "error_bound = truncation_error_bound(x_value, order)\n",
    "\n",
    "print(f\"Taylor series approximation of e^{x_value} (order {order}): {taylor_approx}\")\n",
    "print(f\"Truncation error bound for order {order}: {error_bound}\")\n",
    "print(f\"Actual exp({x_value}): {np.exp(x_value)}\")\n"
   ]
  }
 ],
 "metadata": {
  "kernelspec": {
   "display_name": "Python 3",
   "language": "python",
   "name": "python3"
  },
  "language_info": {
   "codemirror_mode": {
    "name": "ipython",
    "version": 3
   },
   "file_extension": ".py",
   "mimetype": "text/x-python",
   "name": "python",
   "nbconvert_exporter": "python",
   "pygments_lexer": "ipython3",
   "version": "3.12.4"
  }
 },
 "nbformat": 4,
 "nbformat_minor": 2
}

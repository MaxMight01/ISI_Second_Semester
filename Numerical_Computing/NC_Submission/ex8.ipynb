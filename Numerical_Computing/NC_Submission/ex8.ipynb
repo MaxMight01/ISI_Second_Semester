{
 "cells": [
  {
   "cell_type": "markdown",
   "metadata": {},
   "source": [
    "7. Run the following two iterative implementations of finding Fibonacci numbers in the `line_pro_filer` as well as using the magic command to get the repeated run time. The first implementation preallocates memory to an array that stores all the Fibonacci numbers. The second implementation expands the list at each iteration of the for-loop."
   ]
  },
  {
   "cell_type": "code",
   "execution_count": 1,
   "metadata": {},
   "outputs": [],
   "source": [
    "import numpy as np\n",
    "\n",
    "def my_fib_iter1(n):\n",
    "    out = np.zeros(n)\n",
    "\n",
    "    out[:2] = 1\n",
    "    for i in range(2, n):\n",
    "        out[i] = out[i-1] + out[i-2]\n",
    "\n",
    "    return out\n",
    "\n",
    "def my_fib_iter2(n):\n",
    "    out = [1, 1]\n",
    "\n",
    "    for i in range(2, n):\n",
    "        out.append(out[i-1]+out[i-2])\n",
    "\n",
    "    return np.array(out)"
   ]
  },
  {
   "cell_type": "code",
   "execution_count": 7,
   "metadata": {},
   "outputs": [
    {
     "name": "stdout",
     "output_type": "stream",
     "text": [
      "Timing my_fib_iter1:\n"
     ]
    },
    {
     "name": "stderr",
     "output_type": "stream",
     "text": [
      "C:\\Users\\Workstation\\AppData\\Local\\Temp\\ipykernel_6272\\1187304983.py:8: RuntimeWarning: overflow encountered in scalar add\n",
      "  out[i] = out[i-1] + out[i-2]\n"
     ]
    },
    {
     "name": "stdout",
     "output_type": "stream",
     "text": [
      "4.33 ms ± 289 μs per loop (mean ± std. dev. of 7 runs, 100 loops each)\n",
      "\n",
      "Timing my_fib_iter2:\n",
      "8.62 ms ± 340 μs per loop (mean ± std. dev. of 7 runs, 100 loops each)\n"
     ]
    }
   ],
   "source": [
    "n = 10000\n",
    "\n",
    "print(\"Timing my_fib_iter1:\")\n",
    "%timeit my_fib_iter1(n)\n",
    "\n",
    "print(\"\\nTiming my_fib_iter2:\")\n",
    "%timeit my_fib_iter2(n)"
   ]
  }
 ],
 "metadata": {
  "kernelspec": {
   "display_name": "Python 3",
   "language": "python",
   "name": "python3"
  },
  "language_info": {
   "codemirror_mode": {
    "name": "ipython",
    "version": 3
   },
   "file_extension": ".py",
   "mimetype": "text/x-python",
   "name": "python",
   "nbconvert_exporter": "python",
   "pygments_lexer": "ipython3",
   "version": "3.12.4"
  }
 },
 "nbformat": 4,
 "nbformat_minor": 2
}

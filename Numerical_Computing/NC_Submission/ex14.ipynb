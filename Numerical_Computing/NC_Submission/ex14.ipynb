{
 "cells": [
  {
   "cell_type": "markdown",
   "metadata": {},
   "source": [
    "3. Write a function `my_is_similar(s1,s2,tol)` where `s1` and `s2` are strings, not necessarily of the same size, and `tol` is a scalar value stricty larger than zero. From `s1` and `s2`, the function should construct two vectors, `v1` and `v2`, where `v1[0]` is the number of a's in `s1`, `v1[1]` is the number of b's in `s1`, and so on until `v1[25]`, which is the number of 's in `v1`. The vector `v2` should be similarly constructed from `s2`. The output should be $1$ if the absolute value of the angle between `v1` and `v2` is less than `tol`, that is, $\\left|\\theta\\right| <$ `tol`."
   ]
  },
  {
   "cell_type": "code",
   "execution_count": 1,
   "metadata": {},
   "outputs": [
    {
     "name": "stdout",
     "output_type": "stream",
     "text": [
      "1\n",
      "0\n"
     ]
    }
   ],
   "source": [
    "import numpy as np\n",
    "\n",
    "def my_is_similar(s1, s2, tol):\n",
    "    v1 = np.array([s1.count(chr(i)) for i in range(97, 123)])\n",
    "    v2 = np.array([s2.count(chr(i)) for i in range(97, 123)])\n",
    "\n",
    "    norm_v1 = np.linalg.norm(v1)\n",
    "    norm_v2 = np.linalg.norm(v2)\n",
    "\n",
    "    if norm_v1 == 0 or norm_v2 == 0:\n",
    "        return 0\n",
    "\n",
    "    cos_theta = np.dot(v1, v2)/(norm_v1*norm_v2)\n",
    "    cos_theta = np.clip(cos_theta, -1, 1)\n",
    "\n",
    "    theta = np.arccos(cos_theta)\n",
    "    if abs(theta) < tol:\n",
    "        return 1\n",
    "    else:\n",
    "        return 0\n",
    "\n",
    "print(my_is_similar(\"same\", \"same\", 0.1))\n",
    "print(my_is_similar(\"a\",\"b\",0.1))"
   ]
  },
  {
   "cell_type": "markdown",
   "metadata": {},
   "source": [
    "4. Write a function `my_make_lin_ind(A)` where $A$ and $B$ are matrices. Let $\\text{rank}(A) = n$. Then $B$ should be a matrix containing the first $n$ columns of $A$ that are all linearly independent. Note that this implies that $B$ has full rank."
   ]
  },
  {
   "cell_type": "code",
   "execution_count": 2,
   "metadata": {},
   "outputs": [
    {
     "name": "stdout",
     "output_type": "stream",
     "text": [
      "[[ 12  11 -24  15]\n",
      " [ 19  10 -31   9]\n",
      " [  1  21  -5  20]\n",
      " [  6  13 -10   5]\n",
      " [ 22   2 -12  23]]\n"
     ]
    }
   ],
   "source": [
    "import numpy as np\n",
    "\n",
    "def my_make_lin_ind(A):\n",
    "    n_rows, n_cols = A.shape\n",
    "    rank = np.linalg.matrix_rank(A)\n",
    "\n",
    "    B_cols = []\n",
    "\n",
    "    for j in range(0, n_cols):\n",
    "        if len(B_cols) == rank:\n",
    "            break\n",
    "            \n",
    "        if len(B_cols) > 0:\n",
    "            candidate_matrix = A[:, B_cols + [j]]\n",
    "        else:\n",
    "            candidate_matrix = A[:, [j]]\n",
    "\n",
    "        if np.linalg.matrix_rank(candidate_matrix) > len(B_cols):\n",
    "            B_cols.append(j)\n",
    "    \n",
    "    B = A[:, B_cols]\n",
    "    return B\n",
    "\n",
    "A = np.array([[12,24,0,11,-24,18,15],\n",
    "              [19,38,0,10,-31,25,9],\n",
    "              [1,2,0,21,-5,3,20],\n",
    "              [6,12,0,13,-10,8,5],\n",
    "              [22,44,0,2,-12,17,23]])\n",
    "\n",
    "print(my_make_lin_ind(A))"
   ]
  },
  {
   "cell_type": "markdown",
   "metadata": {},
   "source": [
    "12. Write a function `my_flow_calcultor(S,d)` where `S` is a $1 \\times 2$ vector representing the capacity of each power supply station, and `d` is a $1 \\times 5$ row vector representing the demands at each node. The output argument, `f`, should be a $1 \\times 7$ row vector denoting the flows in the network. The flows contained in `f` should satisfy all the constraints of the system, like power generation and demands. Note that there may be more than one solution to the system of equations. The total flow into a node must equal the total flow out of the node plus the demand; that is, for each node $i$, $f_{\\text{inflow}} = f_{\\text{outflow}} + d_{i}$. You may assume that $\\sum S_{j} = \\sum d_{i}$."
   ]
  },
  {
   "cell_type": "code",
   "execution_count": 13,
   "metadata": {},
   "outputs": [
    {
     "name": "stdout",
     "output_type": "stream",
     "text": [
      "[[10.   4.  -2.   4.5  5.5  2.5  1.5]]\n",
      "[[10.   5.  -1.   4.5  5.5  2.5  1.5]]\n"
     ]
    }
   ],
   "source": [
    "import numpy as np\n",
    "\n",
    "def my_flow_calculator(S,d):\n",
    "    \"\"\"\n",
    "    The equations are:\n",
    "    f1                               = S1\n",
    "                   f4 + f5           = S2\n",
    "            - f3 + f4      - f6      = d1\n",
    "                        f5      - f7 = d2\n",
    "         f2                          = d3\n",
    "    f1 - f2 + f3                     = d4\n",
    "                             f6 + f7 = d5\n",
    "\n",
    "    Represent this system of equations as Af = d.\n",
    "    \"\"\"\n",
    "\n",
    "    d = np.concatenate((S, d), axis = 1).T\n",
    "\n",
    "    A = np.array([\n",
    "        [1, 0, 0, 0, 0, 0, 0],\n",
    "        [0, 0, 0, 1, 1, 0, 0],\n",
    "        [0, 0, -1, 1, 0, -1, 0],\n",
    "        [0, 0, 0, 0, 1, 0, -1],\n",
    "        [0, 1, 0, 0, 0, 0, 0],\n",
    "        [1, -1, 1, 0, 0, 0, 0],\n",
    "        [0, 0, 0, 0, 0, 1, 1]\n",
    "    ])\n",
    "\n",
    "    # Matrix is singular, least squares solution is found instead.\n",
    "    f, _, _, _ = np.linalg.lstsq(A, d, rcond = None)\n",
    "\n",
    "    return(f.T)\n",
    "\n",
    "\n",
    "S = np.array([[10, 10]])\n",
    "d = np.array([[4, 4, 4, 4, 4]])\n",
    "print(my_flow_calculator(S, d))\n",
    "\n",
    "S = np.array([[10, 10]])\n",
    "d = np.array([[3, 4, 5, 4, 4]])\n",
    "print(my_flow_calculator(S, d))  "
   ]
  }
 ],
 "metadata": {
  "kernelspec": {
   "display_name": "Python 3",
   "language": "python",
   "name": "python3"
  },
  "language_info": {
   "codemirror_mode": {
    "name": "ipython",
    "version": 3
   },
   "file_extension": ".py",
   "mimetype": "text/x-python",
   "name": "python",
   "nbconvert_exporter": "python",
   "pygments_lexer": "ipython3",
   "version": "3.12.4"
  }
 },
 "nbformat": 4,
 "nbformat_minor": 2
}

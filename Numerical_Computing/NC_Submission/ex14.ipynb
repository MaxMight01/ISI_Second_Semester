{
 "cells": [
  {
   "cell_type": "markdown",
   "metadata": {},
   "source": [
    "3. Write a function `my_is_similar(s1,s2,tol)` where `s1` and `s2` are strings, not necessarily of the same size, and `tol` is a scalar value stricty larger than zero. From `s1` and `s2`, the function should construct two vectors, `v1` and `v2`, where `v1[0]` is the number of a's in `s1`, `v1[1]` is the number of b's in `s1`, and so on until `v1[25]`, which is the number of 's in `v1`. The vector `v2` should be similarly constructed from `s2`. The output should be $1$ if the absolute value of the angle between `v1` and `v2` is less than `tol`, that is, $\\left|\\theta\\right| <$ `tol`."
   ]
  },
  {
   "cell_type": "code",
   "execution_count": 4,
   "metadata": {},
   "outputs": [
    {
     "name": "stdout",
     "output_type": "stream",
     "text": [
      "1\n",
      "0\n"
     ]
    }
   ],
   "source": [
    "import numpy as np\n",
    "\n",
    "def my_is_similar(s1, s2, tol):\n",
    "    v1 = np.array([s1.count(chr(i)) for i in range(97, 123)])\n",
    "    v2 = np.array([s2.count(chr(i)) for i in range(97, 123)])\n",
    "\n",
    "    norm_v1 = np.linalg.norm(v1)\n",
    "    norm_v2 = np.linalg.norm(v2)\n",
    "\n",
    "    if norm_v1 == 0 or norm_v2 == 0:\n",
    "        return 0\n",
    "\n",
    "    cos_theta = np.dot(v1, v2)/(norm_v1*norm_v2)\n",
    "    cos_theta = np.clip(cos_theta, -1, 1)\n",
    "\n",
    "    theta = np.arccos(cos_theta)\n",
    "    if abs(theta) < tol:\n",
    "        return 1\n",
    "    else:\n",
    "        return 0\n",
    "\n",
    "print(my_is_similar(\"same\", \"same\", 0.1))\n",
    "print(my_is_similar(\"a\",\"b\",0.1))"
   ]
  },
  {
   "cell_type": "markdown",
   "metadata": {},
   "source": [
    "4. Write a function `my_make_lin_ind(A)` where $A$ and $B$ are matrices. Let $\\text{rank}(A) = n$. Then $B$ should be a matrix containing the first $n$ columns of $A$ that are all linearly independent. Note that this implies that $B$ has full rank."
   ]
  },
  {
   "cell_type": "code",
   "execution_count": 7,
   "metadata": {},
   "outputs": [
    {
     "name": "stdout",
     "output_type": "stream",
     "text": [
      "[[ 12  11 -24  15]\n",
      " [ 19  10 -31   9]\n",
      " [  1  21  -5  20]\n",
      " [  6  13 -10   5]\n",
      " [ 22   2 -12  23]]\n"
     ]
    }
   ],
   "source": [
    "import numpy as np\n",
    "\n",
    "def my_make_lin_ind(A):\n",
    "    n_rows, n_cols = A.shape\n",
    "    rank = np.linalg.matrix_rank(A)\n",
    "\n",
    "    B_cols = []\n",
    "\n",
    "    for j in range(0, n_cols):\n",
    "        if len(B_cols) == rank:\n",
    "            break\n",
    "            \n",
    "        if len(B_cols) > 0:\n",
    "            candidate_matrix = A[:, B_cols + [j]]\n",
    "        else:\n",
    "            candidate_matrix = A[:, [j]]\n",
    "\n",
    "        if np.linalg.matrix_rank(candidate_matrix) > len(B_cols):\n",
    "            B_cols.append(j)\n",
    "    \n",
    "    B = A[:, B_cols]\n",
    "    return B\n",
    "\n",
    "A = np.array([[12,24,0,11,-24,18,15],\n",
    "              [19,38,0,10,-31,25,9],\n",
    "              [1,2,0,21,-5,3,20],\n",
    "              [6,12,0,13,-10,8,5],\n",
    "              [22,44,0,2,-12,17,23]])\n",
    "\n",
    "print(my_make_lin_ind(A))"
   ]
  },
  {
   "cell_type": "code",
   "execution_count": null,
   "metadata": {},
   "outputs": [],
   "source": []
  }
 ],
 "metadata": {
  "kernelspec": {
   "display_name": "Python 3",
   "language": "python",
   "name": "python3"
  },
  "language_info": {
   "codemirror_mode": {
    "name": "ipython",
    "version": 3
   },
   "file_extension": ".py",
   "mimetype": "text/x-python",
   "name": "python",
   "nbconvert_exporter": "python",
   "pygments_lexer": "ipython3",
   "version": "3.12.4"
  }
 },
 "nbformat": 4,
 "nbformat_minor": 2
}

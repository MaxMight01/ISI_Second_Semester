{
 "cells": [
  {
   "cell_type": "markdown",
   "metadata": {},
   "source": [
    "5. The following is a definition of the class `Point` that takes in the coordinates `x, y`. Add a method `plot_point` that plots the position of a point."
   ]
  },
  {
   "cell_type": "code",
   "execution_count": 3,
   "metadata": {},
   "outputs": [
    {
     "data": {
      "image/png": "[encoded data removed]",
      "text/plain": [
       "<Figure size 640x480 with 1 Axes>"
      ]
     },
     "metadata": {},
     "output_type": "display_data"
    }
   ],
   "source": [
    "import matplotlib.pyplot as plt\n",
    "\n",
    "class Point():\n",
    "    def __init__(self, x, y):\n",
    "        self.x = x\n",
    "        self.y = y\n",
    "    def plot_point(self):\n",
    "        plt.plot([self.x], [self.y], 'o')\n",
    "\n",
    "p = Point(5,10)\n",
    "q = Point(4,9)\n",
    "q.plot_point()\n",
    "p.plot_point()"
   ]
  },
  {
   "cell_type": "markdown",
   "metadata": {},
   "source": [
    "6. Use the class from the previous problem and add a method `calculate_dist` which takes in `x` and `y` from another point, and returns the distance calculated between the two points."
   ]
  },
  {
   "cell_type": "code",
   "execution_count": 4,
   "metadata": {},
   "outputs": [
    {
     "name": "stdout",
     "output_type": "stream",
     "text": [
      "Distance between p and q is 1.4142135623730951\n"
     ]
    }
   ],
   "source": [
    "import matplotlib.pyplot as plt\n",
    "\n",
    "class Point():\n",
    "    def __init__(self, x, y):\n",
    "        self.x = x\n",
    "        self.y = y\n",
    "    def plot_point(self):\n",
    "        plt.plot([self.x], [self.y], 'o')\n",
    "    def calculate_dist(self, q: Point):\n",
    "        return ((self.x-q.x)**2 + (self.y-q.y)**2)**0.5\n",
    "\n",
    "p = Point(5,10)\n",
    "q = Point(4,9)\n",
    "print(f\"Distance between p and q is {p.calculate_dist(q)}\")"
   ]
  },
  {
   "cell_type": "markdown",
   "metadata": {},
   "source": [
    "7. What is inheritance?"
   ]
  },
  {
   "cell_type": "markdown",
   "metadata": {},
   "source": [
    "Inheritance allows us to define a class that inherits all the methods and attributes from another class.\n",
    "Convention denotes the new class as child class, and the one that it inherits from is called the parent\n",
    "class or superclass."
   ]
  }
 ],
 "metadata": {
  "kernelspec": {
   "display_name": "Python 3",
   "language": "python",
   "name": "python3"
  },
  "language_info": {
   "codemirror_mode": {
    "name": "ipython",
    "version": 3
   },
   "file_extension": ".py",
   "mimetype": "text/x-python",
   "name": "python",
   "nbconvert_exporter": "python",
   "pygments_lexer": "ipython3",
   "version": "3.12.4"
  }
 },
 "nbformat": 4,
 "nbformat_minor": 2
}

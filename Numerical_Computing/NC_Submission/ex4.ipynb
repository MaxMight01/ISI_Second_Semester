{
 "cells": [
  {
   "cell_type": "markdown",
   "metadata": {},
   "source": [
    "1. Write a function `my_tip_calc(bill, party)` where `bill` is the total cost of a meal and `party` is the number of people in the group. The tip should be calculated as $15%$ for a party strictly less than six people, $18%$ for a party strictly less than eight, $20%$ for a party less than $11$, and $25%$ for a party $11$ or more."
   ]
  },
  {
   "cell_type": "code",
   "execution_count": 4,
   "metadata": {},
   "outputs": [
    {
     "name": "stdout",
     "output_type": "stream",
     "text": [
      "16.3935\n",
      "19.6722\n",
      "21.858000000000004\n",
      "27.3225\n"
     ]
    }
   ],
   "source": [
    "def my_tip_calc(bill: float, party: int) -> float:\n",
    "    if party < 6:\n",
    "        tips = 0.15 * bill\n",
    "    elif party < 8:\n",
    "        tips = 0.18 * bill\n",
    "    elif party < 11:\n",
    "        tips = 0.20 * bill\n",
    "    else: \n",
    "        tips = 0.25 * bill\n",
    "\n",
    "    return tips\n",
    "\n",
    "print(my_tip_calc(109.29,3))\n",
    "print(my_tip_calc(109.29,7))\n",
    "print(my_tip_calc(109.29,9))\n",
    "print(my_tip_calc(109.29,12))"
   ]
  },
  {
   "cell_type": "markdown",
   "metadata": {},
   "source": [
    "2. Write a function `my_mult_operation(a,b,operation)`. The input argument, `operation`, is a string that is either `plus`, `minus`, `div`, or `pow`, and the function should compute: $a+b$, $a-b$, $a/b$, and $a^{b}$ for the respective values for `operation`."
   ]
  },
  {
   "cell_type": "code",
   "execution_count": 2,
   "metadata": {},
   "outputs": [
    {
     "data": {
      "text/plain": [
       "array([  1,   4,  27, 256])"
      ]
     },
     "execution_count": 2,
     "metadata": {},
     "output_type": "execute_result"
    }
   ],
   "source": [
    "import numpy as np\n",
    "\n",
    "def my_mult_operation(a,b,operation: str):\n",
    "    if operation == 'plus':\n",
    "        out = a+b\n",
    "    elif operation == 'minus':\n",
    "        out = a-b\n",
    "    elif operation == 'div':\n",
    "        out = a/b\n",
    "    elif operation == 'pow':\n",
    "        out = a**b\n",
    "\n",
    "    return out\n",
    "\n",
    "x = np.array([1,2,3,4])\n",
    "y = x\n",
    "\n",
    "my_mult_operation(x,y,'pow')"
   ]
  },
  {
   "cell_type": "markdown",
   "metadata": {},
   "source": [
    "3. Consider a triangle with vertices at $(0,0)$, $(1,0)$, and $(0,1)$. Write a function with the name `my_inside_triangle(x,y)`, where the output is the string `outside` if the point $(x,y)$ is outside of the traingle, `border` if the points is exactly on the border of the triangle, and `inside` if the point is on the inside of the triangle."
   ]
  },
  {
   "cell_type": "code",
   "execution_count": 6,
   "metadata": {},
   "outputs": [
    {
     "name": "stdout",
     "output_type": "stream",
     "text": [
      "border\n",
      "inside\n",
      "outside\n"
     ]
    }
   ],
   "source": [
    "def my_inside_triangle(x,y) -> str:\n",
    "    if x < 0 or y < 0 or x+y > 1:\n",
    "        return 'outside'\n",
    "    elif x > 0 and y > 0 and x+y < 1:\n",
    "        return 'inside'\n",
    "    else:\n",
    "        return 'border'\n",
    "\n",
    "print(my_inside_triangle(.5,.5))\n",
    "print(my_inside_triangle(.25,.25))\n",
    "print(my_inside_triangle(5,5))"
   ]
  },
  {
   "cell_type": "markdown",
   "metadata": {},
   "source": [
    "4. Write a funtion `my_make_size10(x)` where `x` is an array, and output is the first $10$ elements of `x` if `x` has more than $10$ elements, and the output is the array `x` padded with enough zeros to make it length $10$ if `x` has less than $10$ elements."
   ]
  },
  {
   "cell_type": "code",
   "execution_count": 12,
   "metadata": {},
   "outputs": [
    {
     "name": "stdout",
     "output_type": "stream",
     "text": [
      "[1, 0, 0, 0, 0, 0, 0, 0, 0, 0]\n",
      "[1, 2, 3, 4, 5, 6, 7, 8, 9, 10]\n",
      "[2, 4, 6, 8, 10, 12, 14, 16, 18, 20]\n"
     ]
    }
   ],
   "source": [
    "def my_make_size10(x):\n",
    "    if len(x) < 10:\n",
    "        out = x + [0 for i in range(10-len(x))]\n",
    "    else:\n",
    "        out = x[:10]\n",
    "    return out\n",
    "\n",
    "print(my_make_size10([i for i in range(1,2)]))\n",
    "print(my_make_size10([i for i in range(1,15)]))\n",
    "print(my_make_size10([i for i in range(2,21,2)]))"
   ]
  },
  {
   "cell_type": "markdown",
   "metadata": {},
   "source": [
    "5. Can you write `my_make_size10` without using if-statements?"
   ]
  },
  {
   "cell_type": "code",
   "execution_count": 13,
   "metadata": {},
   "outputs": [
    {
     "name": "stdout",
     "output_type": "stream",
     "text": [
      "[1, 0, 0, 0, 0, 0, 0, 0, 0, 0]\n",
      "[1, 2, 3, 4, 5, 6, 7, 8, 9, 10]\n",
      "[2, 4, 6, 8, 10, 12, 14, 16, 18, 20]\n"
     ]
    }
   ],
   "source": [
    "def my_make_size10(x):\n",
    "    x = x + [0 for i in range(0,10-len(x))]\n",
    "    return x[:10]\n",
    "\n",
    "print(my_make_size10([i for i in range(1,2)]))\n",
    "print(my_make_size10([i for i in range(1,15)]))\n",
    "print(my_make_size10([i for i in range(2,21,2)]))"
   ]
  },
  {
   "cell_type": "markdown",
   "metadata": {},
   "source": [
    "6. Write a function `my_letter_grader(percent)` where the grade is the string `A+` if `percent` is greater than $97$, `A` if `percent` is greater than $93$, `A-` if `percent` is greater than $90$,$\\\\$\n",
    "`B+` if `percent` greater than $87$,$\\\\$\n",
    "`B` if `percent` greater than $83$,$\\\\$\n",
    "`B-` if `percent` greater than $80$,$\\\\$\n",
    "`C+` if `percent` greater than $77$,$\\\\$\n",
    "`C` if `percent` greater than $73$,$\\\\$\n",
    "`C-` if `percent` greater than $70$,$\\\\$\n",
    "`D+` if `percent` greater than $67$,$\\\\$\n",
    "`D` if `percent` greater than $63$,$\\\\$\n",
    "`D-` if `percent` greater than $60$,$\\\\$,\n",
    "and `F` if `percent` is less than $60$. Grades exactly on the division should be included in the higher grade category."
   ]
  },
  {
   "cell_type": "code",
   "execution_count": 17,
   "metadata": {},
   "outputs": [
    {
     "name": "stdout",
     "output_type": "stream",
     "text": [
      "A+\n",
      "B\n"
     ]
    }
   ],
   "source": [
    "def my_letter_grader(percent):\n",
    "    if percent < 60:\n",
    "        return 'F'\n",
    "    elif percent == 100:\n",
    "        return 'A+'\n",
    "    else:\n",
    "        grade_list = ['D','C','B','A']\n",
    "        grade = grade_list[int(str(percent)[0])-6]\n",
    "        plus_minus = int(str(percent)[1])\n",
    "        if plus_minus >= 7:\n",
    "            grade += '+'\n",
    "        elif plus_minus < 3:\n",
    "            grade += '-'\n",
    "        return grade\n",
    "\n",
    "print(my_letter_grader(97))\n",
    "print(my_letter_grader(84))"
   ]
  },
  {
   "cell_type": "markdown",
   "metadata": {},
   "source": [
    "7. Most engineering systems have a built-in redundancy. That is, an engineering system has fail-safes incorportaed into the design to accomplish its purpose. Consider a nuclear reactor whos temperature is monitore by three sensors. An alarm should go off if any two of the sensor readings disagree. Write a function `my_nuke_alarm(s1,s2,s3)` where `s1`, `s2`, and `s3` are the temperature readings for sensor 1, sensor 2, and sensor 3, respectively. The output should be the string `alarm!` if any two of the temperature readings diagree by strictly more than $10$ degrees and `normal` otherwise."
   ]
  },
  {
   "cell_type": "code",
   "execution_count": 18,
   "metadata": {},
   "outputs": [
    {
     "name": "stdout",
     "output_type": "stream",
     "text": [
      "normal\n",
      "alarm!\n",
      "normal\n"
     ]
    }
   ],
   "source": [
    "def my_nuke_alarm(s1,s2,s3) -> str:\n",
    "    s = [s1,s2,s3]\n",
    "    for i in range(0,len(s)):\n",
    "        for j in range(i+1,len(s)):\n",
    "            if s[i]-s[j] < -10 or s[i]-s[j] > 10:\n",
    "                return 'alarm!'\n",
    "    return 'normal'\n",
    "\n",
    "print(my_nuke_alarm(94,96,90))\n",
    "print(my_nuke_alarm(94,96,80))\n",
    "print(my_nuke_alarm(100,96,90))"
   ]
  },
  {
   "cell_type": "markdown",
   "metadata": {},
   "source": [
    "8. Write a function `my_n_roots(a,b,c)`, where `a`, `b`, and `c` are the coeffiients of a quadratic $Q(x)$. The funtion should return two values: `n_roots` and `r`. Also, `n_roots` is $2$ if $Q$ has two real roots, $1$ if $Q$ has one root, $-2$ if $Q$ has two imaginary roots, and `r` is an array containing the roots of $Q$."
   ]
  },
  {
   "cell_type": "code",
   "execution_count": 21,
   "metadata": {},
   "outputs": [
    {
     "name": "stdout",
     "output_type": "stream",
     "text": [
      "2 [(-3+0j), (3+0j)]\n",
      "-2 [(-0.6666666666666666-1.1055415967851332j), (-0.6666666666666666+1.1055415967851332j)]\n",
      "1 [(-1+0j), (-1+0j)]\n"
     ]
    }
   ],
   "source": [
    "from cmath import sqrt\n",
    "\n",
    "def my_n_roots(a,b,c):\n",
    "    r = []\n",
    "    n = -2\n",
    "    disc = b**2 - 4*a*c\n",
    "    sqrt_disc = sqrt(disc)\n",
    "    r += [(-b-sqrt_disc)/(2*a), (-b+sqrt_disc)/(2*a)]\n",
    "    if disc == 0:\n",
    "        n += 3\n",
    "    elif disc > 0:\n",
    "        n += 4\n",
    "    return n, r\n",
    "\n",
    "n_roots, r = my_n_roots(1,0,-9)\n",
    "print(n_roots, r)\n",
    "n_roots, r = my_n_roots(3,4,5)\n",
    "print(n_roots, r)\n",
    "n_roots, r = my_n_roots(2,4,2)\n",
    "print(n_roots, r)"
   ]
  },
  {
   "cell_type": "markdown",
   "metadata": {},
   "source": [
    "9. Write a function `my_split_funtion(f,g,a,b,x)`, where `f` and `g` are funtion objects `f(x)` and `g(x)`, respectively. The output should be $f(x)$ if $x \\leq a$, $g(x)$ if $x \\geq b$, and $0$ otherwise, Assume that $b > a$."
   ]
  },
  {
   "cell_type": "code",
   "execution_count": 22,
   "metadata": {},
   "outputs": [
    {
     "name": "stdout",
     "output_type": "stream",
     "text": [
      "2.718281828459045\n",
      "0\n",
      "-0.9589242746631385\n"
     ]
    }
   ],
   "source": [
    "import numpy as np\n",
    "\n",
    "def my_split_function(f,g,a,b,x):\n",
    "    if x <= a:\n",
    "        return f(x)\n",
    "    elif x >= b:\n",
    "        return g(x)\n",
    "    else:\n",
    "        return 0\n",
    "\n",
    "print(my_split_function(np.exp,np.sin,2,4,1))\n",
    "print(my_split_function(np.exp,np.sin,2,4,3))\n",
    "print(my_split_function(np.exp,np.sin,2,4,5))"
   ]
  },
  {
   "cell_type": "code",
   "execution_count": null,
   "metadata": {},
   "outputs": [],
   "source": []
  }
 ],
 "metadata": {
  "kernelspec": {
   "display_name": "Python 3",
   "language": "python",
   "name": "python3"
  },
  "language_info": {
   "codemirror_mode": {
    "name": "ipython",
    "version": 3
   },
   "file_extension": ".py",
   "mimetype": "text/x-python",
   "name": "python",
   "nbconvert_exporter": "python",
   "pygments_lexer": "ipython3",
   "version": "3.12.4"
  }
 },
 "nbformat": 4,
 "nbformat_minor": 2
}

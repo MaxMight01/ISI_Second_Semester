{
 "cells": [
  {
   "cell_type": "markdown",
   "metadata": {},
   "source": [
    "1. Write down the characteristic equation for the matrix $A = \\begin{pmatrix} 3 & 2 \\\\ 5 & 3 \\end{pmatrix}$."
   ]
  },
  {
   "cell_type": "code",
   "execution_count": 2,
   "metadata": {},
   "outputs": [
    {
     "name": "stdout",
     "output_type": "stream",
     "text": [
      "Characteristic equation: lamb² + (-6.000000000000001)lamb + (-0.9999999999999986) = 0\n"
     ]
    }
   ],
   "source": [
    "import numpy as np\n",
    "\n",
    "A = np.array([[3, 2], \n",
    "              [5, 3]])\n",
    "\n",
    "char_poly = np.poly(A)\n",
    "print(f\"Characteristic equation: lamb² + ({char_poly[1]})lamb + ({char_poly[2]}) = 0\")\n"
   ]
  },
  {
   "cell_type": "markdown",
   "metadata": {},
   "source": [
    "2. Use the above characteristic equation to solve for eigenvalues and eigenvectors of matrix $A$."
   ]
  },
  {
   "cell_type": "code",
   "execution_count": 3,
   "metadata": {},
   "outputs": [
    {
     "name": "stdout",
     "output_type": "stream",
     "text": [
      "Eigenvalues: [ 6.16227766 -0.16227766]\n",
      "\n",
      "Eigenvectors:\n",
      "[[ 0.53452248 -0.53452248]\n",
      " [ 0.84515425  0.84515425]]\n"
     ]
    }
   ],
   "source": [
    "import numpy as np\n",
    "\n",
    "coefficients = [1, -6, -1]\n",
    "\n",
    "eigenvalues = np.roots(coefficients)\n",
    "print(\"Eigenvalues:\", eigenvalues)\n",
    "\n",
    "eigenvectors = []\n",
    "A = np.array([[3, 2], \n",
    "              [5, 3]])\n",
    "\n",
    "for lamb in eigenvalues:\n",
    "    I = np.eye(2)\n",
    "    null_space = np.linalg.svd(A - lamb*I)[2][-1]  # Last row of V in SVD gives null space basis\n",
    "    eigenvectors.append(null_space)\n",
    "\n",
    "eigenvectors = np.array(eigenvectors).T\n",
    "\n",
    "print(\"\\nEigenvectors:\")\n",
    "print(eigenvectors)\n"
   ]
  },
  {
   "cell_type": "markdown",
   "metadata": {},
   "source": [
    "3. Use the first eigenvector derived from Problem 2 to verify that $Ax = \\lambda x$."
   ]
  },
  {
   "cell_type": "code",
   "execution_count": 4,
   "metadata": {},
   "outputs": [
    {
     "name": "stdout",
     "output_type": "stream",
     "text": [
      "Ax = [3.29387596 5.20807518]\n",
      "lamb*x = [3.29387596 5.20807518]\n",
      "Ax ≈ lamb*x: True\n"
     ]
    }
   ],
   "source": [
    "import numpy as np\n",
    "\n",
    "A = np.array([[3, 2],\n",
    "              [5, 3]])\n",
    "\n",
    "eigenvalues, eigenvectors = np.linalg.eig(A)\n",
    "lambda_1 = eigenvalues[0]\n",
    "v1 = eigenvectors[:, 0]\n",
    "Ax = A @ v1\n",
    "\n",
    "lambdax = lambda_1 * v1\n",
    "\n",
    "print(\"Ax =\", Ax)\n",
    "print(\"lamb*x =\", lambdax)\n",
    "print(\"Ax ≈ lamb*x:\", np.allclose(Ax, lambdax)) \n"
   ]
  }
 ],
 "metadata": {
  "kernelspec": {
   "display_name": "Python 3",
   "language": "python",
   "name": "python3"
  },
  "language_info": {
   "codemirror_mode": {
    "name": "ipython",
    "version": 3
   },
   "file_extension": ".py",
   "mimetype": "text/x-python",
   "name": "python",
   "nbconvert_exporter": "python",
   "pygments_lexer": "ipython3",
   "version": "3.12.4"
  }
 },
 "nbformat": 4,
 "nbformat_minor": 2
}

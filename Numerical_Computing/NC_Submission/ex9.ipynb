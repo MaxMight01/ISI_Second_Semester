{
 "cells": [
  {
   "cell_type": "markdown",
   "metadata": {},
   "source": [
    "1. Write a function `my_bin_2_dec(b)` where `b` is a binary number represented by a list of ones and zeros. The output variable, `d`, should be the decimal representation of `b`."
   ]
  },
  {
   "cell_type": "code",
   "execution_count": 4,
   "metadata": {},
   "outputs": [
    {
     "name": "stdout",
     "output_type": "stream",
     "text": [
      "7\n",
      "85\n",
      "33554431\n"
     ]
    }
   ],
   "source": [
    "def my_bin_2_dec(b):\n",
    "    d = 0\n",
    "    power = 0\n",
    "    for i in b[::-1]:\n",
    "        if i:\n",
    "            d += i * (2**power)\n",
    "        power += 1\n",
    "\n",
    "    return d\n",
    "\n",
    "print(my_bin_2_dec([1, 1, 1]))\n",
    "print(my_bin_2_dec([1, 0, 1, 0, 1, 0, 1]))\n",
    "print(my_bin_2_dec([1]*25))"
   ]
  },
  {
   "cell_type": "markdown",
   "metadata": {},
   "source": [
    "2. Write a funciton `my_dec_2_bin(d)` where `d` is a positive integer in decimal, and `b` is the binary representation of `d`. The output `b` must be a list of ones and zeros, and the leading term must be a $1$ unless the decimal input value is $0$"
   ]
  },
  {
   "cell_type": "code",
   "execution_count": 2,
   "metadata": {},
   "outputs": [
    {
     "name": "stdout",
     "output_type": "stream",
     "text": [
      "[0]\n",
      "[1, 0, 1, 1, 1]\n",
      "[1, 0, 0, 0, 0, 0, 1, 1, 0, 0, 0, 1]\n"
     ]
    }
   ],
   "source": [
    "def my_dec_2_bin(d):\n",
    "    if d == 0:\n",
    "        return [0]\n",
    "\n",
    "    b = []\n",
    "    while d > 0:\n",
    "        b.insert(0, d%2)\n",
    "        d //= 2\n",
    "    return b\n",
    "\n",
    "print(my_dec_2_bin(0))\n",
    "print(my_dec_2_bin(23))\n",
    "print(my_dec_2_bin(2097))"
   ]
  },
  {
   "cell_type": "markdown",
   "metadata": {},
   "source": [
    "3. Use the two previous functions to compute `d = my_bin_2_dec(my_dec_2_bin(12654))`."
   ]
  },
  {
   "cell_type": "code",
   "execution_count": 5,
   "metadata": {},
   "outputs": [
    {
     "name": "stdout",
     "output_type": "stream",
     "text": [
      "12654\n"
     ]
    }
   ],
   "source": [
    "print(my_bin_2_dec(my_dec_2_bin(12654)))"
   ]
  },
  {
   "cell_type": "markdown",
   "metadata": {},
   "source": [
    "6. Write a function `my_ieee_2_dec(ieee)` where `ieee` is a string that contains $64$ characters of ones and zeros, representing a $64$-bit IEEE754 number. The output should be `d`, which is the equivalent decimal representation of `ieee`. The input variable `ieee` will always be a $64$-element string of ones and zeros defining a $64$-bit float."
   ]
  },
  {
   "cell_type": "code",
   "execution_count": 9,
   "metadata": {},
   "outputs": [
    {
     "name": "stdout",
     "output_type": "stream",
     "text": [
      "-48.0\n",
      "3.4\n"
     ]
    }
   ],
   "source": [
    "def my_ieee_2_dec(ieee):\n",
    "    sign_bit = int(ieee[0], 2)\n",
    "    exponent_bits = ieee[1:12]\n",
    "    mantissa_bits = ieee[12:]\n",
    "    \n",
    "    sign = (-1) ** sign_bit\n",
    "    \n",
    "    exponent = int(exponent_bits, 2) - 1023\n",
    "    \n",
    "    mantissa = 1\n",
    "    for i, bit in enumerate(mantissa_bits):\n",
    "        mantissa += int(bit) * 2 ** -(i + 1)\n",
    "    \n",
    "    return sign * (2 ** exponent) * mantissa\n",
    "\n",
    "ieee = '1100000001001000000000000000000000000000000000000000000000000000'\n",
    "print(my_ieee_2_dec(ieee))\n",
    "ieee = '0100000000001011001100110011001100110011001100110011001100110011'\n",
    "print(my_ieee_2_dec(ieee))"
   ]
  },
  {
   "cell_type": "markdown",
   "metadata": {},
   "source": [
    "7. Write a function `my_dec_2_ieee(d)` where `d` is a number in decimal, and the output variable `ieee` is a string with $64$ characters of ones and zeros."
   ]
  },
  {
   "cell_type": "code",
   "execution_count": 1,
   "metadata": {},
   "outputs": [
    {
     "name": "stdout",
     "output_type": "stream",
     "text": [
      "0011111111111000010010111011011000010110100011100001110100100000\n"
     ]
    }
   ],
   "source": [
    "def my_dec_2_ieee(d):\n",
    "    if d == 0.0:\n",
    "        return '0' * 64 if d > 0 else '1' + '0' * 63\n",
    "    \n",
    "    sign_bit = '0' if d > 0 else '1'\n",
    "    d = abs(d)\n",
    "    \n",
    "    exponent = 0\n",
    "    if d >= 1:\n",
    "        while d >= 2:\n",
    "            d /= 2\n",
    "            exponent += 1\n",
    "    elif d < 1:\n",
    "        while d < 1:\n",
    "            d *= 2\n",
    "            exponent -= 1\n",
    "\n",
    "    biased_exponent = exponent + 1023\n",
    "    exponent_bits = f'{biased_exponent:011b}'\n",
    "    \n",
    "\n",
    "    d -= 1\n",
    "    mantissa = \"\"\n",
    "    for _ in range(52):\n",
    "        d *= 2\n",
    "        if d >= 1:\n",
    "            mantissa += '1'\n",
    "            d -= 1\n",
    "        else:\n",
    "            mantissa += '0'\n",
    "    \n",
    "    ieee = sign_bit + exponent_bits + mantissa\n",
    "    return ieee\n",
    "\n",
    "print(my_dec_2_ieee(1.518484199625))"
   ]
  }
 ],
 "metadata": {
  "kernelspec": {
   "display_name": "Python 3",
   "language": "python",
   "name": "python3"
  },
  "language_info": {
   "codemirror_mode": {
    "name": "ipython",
    "version": 3
   },
   "file_extension": ".py",
   "mimetype": "text/x-python",
   "name": "python",
   "nbconvert_exporter": "python",
   "pygments_lexer": "ipython3",
   "version": "3.12.4"
  }
 },
 "nbformat": 4,
 "nbformat_minor": 2
}

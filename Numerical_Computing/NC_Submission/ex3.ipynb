{
 "cells": [
  {
   "cell_type": "markdown",
   "metadata": {},
   "source": [
    "1. Write a function `my_sinh(x)` where the output `y` is the hyperbolic sine computed on `x`."
   ]
  },
  {
   "cell_type": "code",
   "execution_count": 1,
   "metadata": {},
   "outputs": [
    {
     "name": "stdout",
     "output_type": "stream",
     "text": [
      "0.0\n",
      "1.1752011936438014\n",
      "3.626860407847019\n"
     ]
    }
   ],
   "source": [
    "import math\n",
    "def my_sinh(x):\n",
    "    return (math.exp(x)-math.exp(-x))/2\n",
    "    \n",
    "print(my_sinh(0))\n",
    "print(my_sinh(1))\n",
    "print(my_sinh(2))"
   ]
  },
  {
   "cell_type": "markdown",
   "metadata": {},
   "source": [
    "2. Write a function `my_checker_board(n)` where the output `m` is an $n \\times n$ array with alternating $1$'s and $0$'s. The upper-left element is always 1, and assume that $n$ is a strictly positive integer."
   ]
  },
  {
   "cell_type": "code",
   "execution_count": 3,
   "metadata": {},
   "outputs": [
    {
     "name": "stdout",
     "output_type": "stream",
     "text": [
      "[[1. 0. 1. 0. 1.]\n",
      " [0. 1. 0. 1. 0.]\n",
      " [1. 0. 1. 0. 1.]\n",
      " [0. 1. 0. 1. 0.]\n",
      " [1. 0. 1. 0. 1.]]\n"
     ]
    }
   ],
   "source": [
    "import numpy as np\n",
    "\n",
    "def my_checker_board(n: int):\n",
    "    m = np.zeros((n,n))\n",
    "    m[::2,::2] = 1\n",
    "    m[1::2,1::2] = 1\n",
    "    return m\n",
    "\n",
    "print(my_checker_board(5))"
   ]
  },
  {
   "cell_type": "markdown",
   "metadata": {},
   "source": [
    "3. Write a function `my_triangle(b,h)`, where the output is the area of a triangle with base `b` and height `h`."
   ]
  },
  {
   "cell_type": "code",
   "execution_count": 5,
   "metadata": {},
   "outputs": [
    {
     "data": {
      "text/plain": [
       "30.0"
      ]
     },
     "execution_count": 5,
     "metadata": {},
     "output_type": "execute_result"
    }
   ],
   "source": [
    "def my_triangle(b: float, h: float):\n",
    "    return 0.5*b*h\n",
    "\n",
    "my_triangle(12, 5)"
   ]
  },
  {
   "cell_type": "markdown",
   "metadata": {},
   "source": [
    "4. Write a function `my_split_matrix(m)`, where `m` is an array, and the output is a list `[m1,m2]` where `m1` is the left half of `m`, and `m2` is the right half of `m`. In the case where there is an odd number of columns, the middle column should go to `m1`. Assume that `m` has at least two columns."
   ]
  },
  {
   "cell_type": "code",
   "execution_count": 7,
   "metadata": {},
   "outputs": [
    {
     "name": "stdout",
     "output_type": "stream",
     "text": [
      "[[1 2 3]\n",
      " [4 5 6]\n",
      " [7 8 9]]\n",
      "[[1 2]\n",
      " [4 5]\n",
      " [7 8]]\n",
      "[[3]\n",
      " [6]\n",
      " [9]]\n"
     ]
    }
   ],
   "source": [
    "def my_split_matrix(m):\n",
    "    middle = (m.shape[1]//2) + (m.shape[1]%2)\n",
    "    m1 = m[:,:middle]\n",
    "    m2 = m[:,middle:]\n",
    "    return [m1,m2]\n",
    "\n",
    "m = np.array([[1,2,3],[4,5,6],[7,8,9]])\n",
    "m1, m2 = my_split_matrix(m)\n",
    "print(m)\n",
    "print(m1)\n",
    "print(m2)"
   ]
  },
  {
   "cell_type": "markdown",
   "metadata": {},
   "source": [
    "5. Write a function `my_cylinder(r,h)`, where `r` and `h` are the radius and height of a cylinder, respectively, and the output is a list `[s,v]` where `s` and `v` are the surface are and the volume of the same cylinder, respectively."
   ]
  },
  {
   "cell_type": "code",
   "execution_count": 13,
   "metadata": {},
   "outputs": [
    {
     "name": "stdout",
     "output_type": "stream",
     "text": [
      "3.141592653589793\n"
     ]
    },
    {
     "data": {
      "text/plain": [
       "[37.69911184307752, 15.707963267948966]"
      ]
     },
     "execution_count": 13,
     "metadata": {},
     "output_type": "execute_result"
    }
   ],
   "source": [
    "from math import pi\n",
    "print(pi)\n",
    "def my_cylinder(r, h):\n",
    "    v = pi*r*r*h\n",
    "    s = 2*pi*r*r + 2*pi*r*h\n",
    "    return [s,v]\n",
    "\n",
    "my_cylinder(1,5)"
   ]
  },
  {
   "cell_type": "markdown",
   "metadata": {},
   "source": [
    "6. Write a function `my_n_odds(a)`, where `a` is a one-dimensional array of floats the output is the number of odd numbers in `a`."
   ]
  },
  {
   "cell_type": "code",
   "execution_count": 14,
   "metadata": {},
   "outputs": [
    {
     "data": {
      "text/plain": [
       "0"
      ]
     },
     "execution_count": 14,
     "metadata": {},
     "output_type": "execute_result"
    }
   ],
   "source": [
    "def my_n_odds(a):\n",
    "    return np.sum(np.floor(a) % 2 != 0)\n",
    "\n",
    "my_n_odds(np.arange(2,100,2))"
   ]
  },
  {
   "cell_type": "markdown",
   "metadata": {},
   "source": [
    "7. Write a function `my_twos(m,n)` where the output is an $m \\times n$ array of twos. Assume that `m` and `n` are strictly positive integers."
   ]
  },
  {
   "cell_type": "code",
   "execution_count": 15,
   "metadata": {},
   "outputs": [
    {
     "data": {
      "text/plain": [
       "array([[2, 2],\n",
       "       [2, 2],\n",
       "       [2, 2]])"
      ]
     },
     "execution_count": 15,
     "metadata": {},
     "output_type": "execute_result"
    }
   ],
   "source": [
    "def my_twos(m,n):\n",
    "    return np.full((m,n),2)\n",
    "\n",
    "my_twos(3,2)"
   ]
  },
  {
   "cell_type": "markdown",
   "metadata": {},
   "source": [
    "8. Write a lambda function that takes in inputs `x` and `y`, and the output is the value of `x-y`."
   ]
  },
  {
   "cell_type": "code",
   "execution_count": 16,
   "metadata": {},
   "outputs": [
    {
     "data": {
      "text/plain": [
       "-239"
      ]
     },
     "execution_count": 16,
     "metadata": {},
     "output_type": "execute_result"
    }
   ],
   "source": [
    "difference = lambda x, y: x-y\n",
    "difference(15,254)"
   ]
  },
  {
   "cell_type": "markdown",
   "metadata": {},
   "source": [
    "9. Write a function `add_string(s1,s2)` where the output is the concatenation of the strings `s1` and `s2`."
   ]
  },
  {
   "cell_type": "code",
   "execution_count": 18,
   "metadata": {},
   "outputs": [
    {
     "data": {
      "text/plain": [
       "'Pythonis great!'"
      ]
     },
     "execution_count": 18,
     "metadata": {},
     "output_type": "execute_result"
    }
   ],
   "source": [
    "def add_string(s1: str, s2: str) -> str:\n",
    "    return s1 + s2\n",
    "\n",
    "add_string(\"Python\",\"is great!\")"
   ]
  },
  {
   "cell_type": "markdown",
   "metadata": {},
   "source": [
    "10. Generate the following errors."
   ]
  },
  {
   "cell_type": "code",
   "execution_count": 19,
   "metadata": {},
   "outputs": [
    {
     "ename": "TypeError",
     "evalue": "fun() missing 1 required positional argument: 'a'",
     "output_type": "error",
     "traceback": [
      "\u001b[1;31m---------------------------------------------------------------------------\u001b[0m",
      "\u001b[1;31mTypeError\u001b[0m                                 Traceback (most recent call last)",
      "Cell \u001b[1;32mIn[19], line 4\u001b[0m\n\u001b[0;32m      1\u001b[0m \u001b[38;5;28;01mdef\u001b[39;00m \u001b[38;5;21mfun\u001b[39m(a):\n\u001b[0;32m      2\u001b[0m     \u001b[38;5;28;01mreturn\u001b[39;00m a\n\u001b[1;32m----> 4\u001b[0m \u001b[43mfun\u001b[49m\u001b[43m(\u001b[49m\u001b[43m)\u001b[49m\n",
      "\u001b[1;31mTypeError\u001b[0m: fun() missing 1 required positional argument: 'a'"
     ]
    }
   ],
   "source": [
    "def fun(a):\n",
    "    return a\n",
    "\n",
    "fun()"
   ]
  },
  {
   "cell_type": "code",
   "execution_count": 20,
   "metadata": {},
   "outputs": [
    {
     "ename": "IndentationError",
     "evalue": "expected an indented block after function definition on line 1 (757296960.py, line 2)",
     "output_type": "error",
     "traceback": [
      "\u001b[1;36m  Cell \u001b[1;32mIn[20], line 2\u001b[1;36m\u001b[0m\n\u001b[1;33m    return a\u001b[0m\n\u001b[1;37m    ^\u001b[0m\n\u001b[1;31mIndentationError\u001b[0m\u001b[1;31m:\u001b[0m expected an indented block after function definition on line 1\n"
     ]
    }
   ],
   "source": [
    "def fun(a):\n",
    "return a"
   ]
  },
  {
   "cell_type": "markdown",
   "metadata": {},
   "source": [
    "11. Write a function `greeting(name, age)` where `name` is a string, `age` is a float, and the output is a string \"Hi, my name is XXX and I am XXX years old\"."
   ]
  },
  {
   "cell_type": "code",
   "execution_count": 21,
   "metadata": {},
   "outputs": [
    {
     "data": {
      "text/plain": [
       "'Hi, my name is Ramdas and I am 18 years old.'"
      ]
     },
     "execution_count": 21,
     "metadata": {},
     "output_type": "execute_result"
    }
   ],
   "source": [
    "def greeting(name: str, age: float) -> str:\n",
    "    return \"Hi, my name is \" + name + \" and I am \" + str(age) + \" years old.\"\n",
    "\n",
    "greeting(\"Ramdas\",18)"
   ]
  },
  {
   "cell_type": "markdown",
   "metadata": {},
   "source": [
    "12. Let `r1` and `r2` be the radius of circles with the same center and let `r2 > r1`. Write a function `my_donut_area(r1,r2)` where the output is the area outside of the circle with radius `r1` and inside of the circle with radius `r2`. Make sure the function is vectorized. Assume that `r1` and `r2` are one-dimensional arrays of the same size."
   ]
  },
  {
   "cell_type": "code",
   "execution_count": 22,
   "metadata": {},
   "outputs": [
    {
     "data": {
      "text/plain": [
       "array([ 9.42477796, 37.69911184, 84.82300165])"
      ]
     },
     "execution_count": 22,
     "metadata": {},
     "output_type": "execute_result"
    }
   ],
   "source": [
    "def my_donut_area(r1,r2):\n",
    "    return pi*(r2**2 - r1**2)\n",
    "\n",
    "my_donut_area(np.arange(1,4), np.arange(2,7,2))"
   ]
  },
  {
   "cell_type": "markdown",
   "metadata": {},
   "source": [
    "13. Write a function `my_within_tolerance(A,a,tol)` where the output is an array or list of the indices in `A` such that $|A-a|<\\text{tol}$. Assume that `A` is a one-dimensional float list or array, and that `a` and `tol` are one by one floats."
   ]
  },
  {
   "cell_type": "code",
   "execution_count": 23,
   "metadata": {},
   "outputs": [
    {
     "data": {
      "text/plain": [
       "array([1, 2], dtype=int64)"
      ]
     },
     "execution_count": 23,
     "metadata": {},
     "output_type": "execute_result"
    }
   ],
   "source": [
    "def my_within_tolerance(A,a,tol):\n",
    "    A = np.array(A)\n",
    "    return np.where(np.abs(A-a)<tol)[0]\n",
    "\n",
    "my_within_tolerance([0,1,2,3],1.5,0.75)"
   ]
  },
  {
   "cell_type": "markdown",
   "metadata": {},
   "source": [
    "14. Write a function `bounding_array(A,top,bottom)` where the output is equal to the array `A` wherever `bottom < A < top`, the output is equal to `bottom` wherever `A <= bottom`, and the output is equal to `top` wherever `A >= top`. Assuyme that `A` is a one-dimensional float array and that `top` and `bottom` are one by one floats."
   ]
  },
  {
   "cell_type": "code",
   "execution_count": 25,
   "metadata": {},
   "outputs": [
    {
     "data": {
      "text/plain": [
       "array([-3, -3, -3, -2, -1,  0,  1,  2,  3,  3,  3])"
      ]
     },
     "execution_count": 25,
     "metadata": {},
     "output_type": "execute_result"
    }
   ],
   "source": [
    "def bounding_array(A,top,bottom):\n",
    "    A = np.array(A)\n",
    "    A[A > top] = top\n",
    "    A[A < bottom] = bottom\n",
    "    return A\n",
    "\n",
    "bounding_array(np.arange(-5,6,1),3,-3)"
   ]
  }
 ],
 "metadata": {
  "kernelspec": {
   "display_name": "Python 3",
   "language": "python",
   "name": "python3"
  },
  "language_info": {
   "codemirror_mode": {
    "name": "ipython",
    "version": 3
   },
   "file_extension": ".py",
   "mimetype": "text/x-python",
   "name": "python",
   "nbconvert_exporter": "python",
   "pygments_lexer": "ipython3",
   "version": "3.12.4"
  }
 },
 "nbformat": 4,
 "nbformat_minor": 2
}

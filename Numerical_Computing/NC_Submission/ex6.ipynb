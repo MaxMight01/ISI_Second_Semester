{
 "cells": [
  {
   "cell_type": "markdown",
   "metadata": {},
   "source": [
    "6. Write a function `my_chebyshev_poly(n,x)` where the output `y` is the `n`th Chebyshev polynomial of the first kind evaluated at `x`. Assume that `x` is a list."
   ]
  },
  {
   "cell_type": "code",
   "execution_count": 2,
   "metadata": {},
   "outputs": [
    {
     "name": "stdout",
     "output_type": "stream",
     "text": [
      "[1, 1, 1, 1, 1]\n",
      "[1, 2, 3, 4, 5]\n",
      "[1, 26, 99, 244, 485]\n"
     ]
    }
   ],
   "source": [
    "def my_chebyshev_poly1(n,x):\n",
    "    def T(n,x):\n",
    "        if n == 0:\n",
    "            return 1\n",
    "        if n == 1:\n",
    "            return x\n",
    "        return 2*x*T(n-1,x) - T(n-2,x)\n",
    "\n",
    "    y = []\n",
    "    for i in x:\n",
    "        y.append(T(n,i))\n",
    "    \n",
    "    return y\n",
    "\n",
    "x = [1,2,3,4,5]\n",
    "print(my_chebyshev_poly1(0,x))\n",
    "print(my_chebyshev_poly1(1,x))\n",
    "print(my_chebyshev_poly1(3,x))"
   ]
  },
  {
   "cell_type": "markdown",
   "metadata": {},
   "source": [
    "3. Write a function `my_ackerman(m,n)` where the output is the Ackermann function computed for `m` and `n`."
   ]
  },
  {
   "cell_type": "code",
   "execution_count": 1,
   "metadata": {},
   "outputs": [
    {
     "name": "stdout",
     "output_type": "stream",
     "text": [
      "9\n",
      "61\n",
      "125\n"
     ]
    }
   ],
   "source": [
    "import sys\n",
    "\n",
    "sys.setrecursionlimit(100000)\n",
    "\n",
    "def my_ackermann(m,n):\n",
    "    if m == 0:\n",
    "        return n+1\n",
    "    if n == 0:\n",
    "        return my_ackermann(m-1, 1)\n",
    "    return my_ackermann(m-1, my_ackermann(m, n-1))\n",
    "\n",
    "print(my_ackermann(2,3))\n",
    "print(my_ackermann(3,3))\n",
    "print(my_ackermann(3,4))"
   ]
  },
  {
   "cell_type": "markdown",
   "metadata": {},
   "source": [
    "6. Write a recursive function with the header `my_golden_ratio(n)`, where the output is the $n$th approximation of the golden ratio according to the continued fraction recursive relationship."
   ]
  },
  {
   "cell_type": "code",
   "execution_count": 5,
   "metadata": {},
   "outputs": [
    {
     "name": "stdout",
     "output_type": "stream",
     "text": [
      "1.6180327868852458\n"
     ]
    }
   ],
   "source": [
    "def my_golden_ratio(n):\n",
    "    if n == 1:\n",
    "        return 1\n",
    "    return 1 + 1/(my_golden_ratio(n-1))\n",
    "\n",
    "print(my_golden_ratio(15))"
   ]
  },
  {
   "cell_type": "markdown",
   "metadata": {},
   "source": [
    "8. Write a function with `my_pascal_row(m)` where the output variable `row` is the `m`th row of the Pascal triangle and must be a list. Assume that `m` is a strictly positive integer."
   ]
  },
  {
   "cell_type": "code",
   "execution_count": 12,
   "metadata": {},
   "outputs": [
    {
     "name": "stdout",
     "output_type": "stream",
     "text": [
      "[1, 4, 6, 4, 1]\n"
     ]
    }
   ],
   "source": [
    "def my_pascal_row(m):\n",
    "    if m == 1:\n",
    "        return [1]\n",
    "    \n",
    "    row = []\n",
    "    prev_row = [0] + my_pascal_row(m-1) + [0]\n",
    "\n",
    "    for i in range(len(prev_row)-1):\n",
    "        row.append(prev_row[i]+prev_row[i+1])\n",
    "\n",
    "    return row\n",
    "\n",
    "print(my_pascal_row(5))"
   ]
  },
  {
   "cell_type": "markdown",
   "metadata": {},
   "source": [
    "9. Consider an $n \\times n$ matrix of the following form:\n",
    "$$\\begin{pmatrix}\n",
    "1 & 1 & 1 & 1 & 1 \\\\\n",
    "1 & 0 & 0 & 0 & 0 \\\\\n",
    "1 & 0 & 1 & 1 & 0 \\\\\n",
    "1 & 0 & 0 & 1 & 0 \\\\\n",
    "1 & 1 & 1 & 1 & 0\n",
    "\\end{pmatrix} $$\n",
    "Write a function `my_spiral_ones(n)` that produces a $n \\times n$ matrix of the given form."
   ]
  },
  {
   "cell_type": "code",
   "execution_count": 16,
   "metadata": {},
   "outputs": [
    {
     "name": "stdout",
     "output_type": "stream",
     "text": [
      "[[1 1 1 1 1 1 1 1 1]\n",
      " [1 0 0 0 0 0 0 0 0]\n",
      " [1 0 1 1 1 1 1 1 0]\n",
      " [1 0 1 0 0 0 0 1 0]\n",
      " [1 0 1 0 1 1 0 1 0]\n",
      " [1 0 1 0 0 1 0 1 0]\n",
      " [1 0 1 1 1 1 0 1 0]\n",
      " [1 0 0 0 0 0 0 1 0]\n",
      " [1 1 1 1 1 1 1 1 0]]\n"
     ]
    }
   ],
   "source": [
    "import numpy as np\n",
    "\n",
    "def my_spiral_ones(n):\n",
    "    if n == 1:\n",
    "        return [[1]]\n",
    "    \n",
    "    spiral = my_spiral_ones(n-1)\n",
    "\n",
    "    if n%4 == 2:\n",
    "        for i in range(len(spiral)):\n",
    "            spiral[i].append(1)\n",
    "        spiral = spiral + [[0 for _ in range(n-1)] + [1]]\n",
    "\n",
    "    elif n%4 == 3:\n",
    "        for i in range(len(spiral)):\n",
    "            spiral[i].insert(0, 0)\n",
    "        spiral = [[0 for _ in range(n)]] + spiral\n",
    "\n",
    "    elif n%4 == 0:\n",
    "        for i in range(len(spiral)):\n",
    "            spiral[i].insert(0, 1)\n",
    "        spiral = spiral + [[1 for _ in range(n)]]\n",
    "\n",
    "    elif n%4 == 1:\n",
    "        for i in range(len(spiral)):\n",
    "            spiral[i].append(0)\n",
    "        spiral = [[1 for _ in range(n)]] + spiral\n",
    "\n",
    "    return spiral\n",
    "\n",
    "print(np.array(my_spiral_ones(9)))"
   ]
  },
  {
   "cell_type": "code",
   "execution_count": null,
   "metadata": {},
   "outputs": [],
   "source": []
  }
 ],
 "metadata": {
  "kernelspec": {
   "display_name": "Python 3",
   "language": "python",
   "name": "python3"
  },
  "language_info": {
   "codemirror_mode": {
    "name": "ipython",
    "version": 3
   },
   "file_extension": ".py",
   "mimetype": "text/x-python",
   "name": "python",
   "nbconvert_exporter": "python",
   "pygments_lexer": "ipython3",
   "version": "3.12.4"
  }
 },
 "nbformat": 4,
 "nbformat_minor": 2
}

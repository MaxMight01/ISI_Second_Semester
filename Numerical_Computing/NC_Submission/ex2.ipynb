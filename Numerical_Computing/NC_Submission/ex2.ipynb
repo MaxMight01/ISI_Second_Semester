{
 "cells": [
  {
   "cell_type": "markdown",
   "metadata": {},
   "source": [
    "1. Assign the value $2$ to the variable `x` and the value $3$ to the variable `y`. Clear just the variable `x`."
   ]
  },
  {
   "cell_type": "code",
   "execution_count": 1,
   "metadata": {},
   "outputs": [],
   "source": [
    "x, y = 2, 3\n",
    "del x"
   ]
  },
  {
   "cell_type": "markdown",
   "metadata": {},
   "source": [
    "2. Write a line of code that generates the following error: `NameError: name \"x\" is not defined`."
   ]
  },
  {
   "cell_type": "code",
   "execution_count": 4,
   "metadata": {},
   "outputs": [
    {
     "ename": "NameError",
     "evalue": "name 'x' is not defined",
     "output_type": "error",
     "traceback": [
      "\u001b[1;31m---------------------------------------------------------------------------\u001b[0m",
      "\u001b[1;31mNameError\u001b[0m                                 Traceback (most recent call last)",
      "Cell \u001b[1;32mIn[4], line 1\u001b[0m\n\u001b[1;32m----> 1\u001b[0m \u001b[43mx\u001b[49m\n",
      "\u001b[1;31mNameError\u001b[0m: name 'x' is not defined"
     ]
    }
   ],
   "source": [
    "x"
   ]
  },
  {
   "cell_type": "markdown",
   "metadata": {},
   "source": [
    "3. Let `x = 10` and `y = 3`. Write a line code with the following assignments."
   ]
  },
  {
   "cell_type": "code",
   "execution_count": 9,
   "metadata": {},
   "outputs": [],
   "source": [
    "import math\n",
    "x, y = 10, 3\n",
    "u = x + y\n",
    "v = x*y\n",
    "w = x/y\n",
    "z = math.sin(x)\n",
    "r = 8*math.sin(x)\n",
    "s = 5*math.sin(x*y)\n",
    "p = x**y"
   ]
  },
  {
   "cell_type": "markdown",
   "metadata": {},
   "source": [
    "4. Show all the variables in the notebook."
   ]
  },
  {
   "cell_type": "code",
   "execution_count": 10,
   "metadata": {},
   "outputs": [
    {
     "name": "stdout",
     "output_type": "stream",
     "text": [
      "Variable   Type      Data/Info\n",
      "------------------------------\n",
      "math       module    <module 'math' (built-in)>\n",
      "p          int       1000\n",
      "r          float     -4.352168887114958\n",
      "s          float     -4.940158120464309\n",
      "u          int       13\n",
      "v          int       30\n",
      "w          float     3.3333333333333335\n",
      "x          int       10\n",
      "y          int       3\n",
      "z          float     -0.5440211108893698\n"
     ]
    }
   ],
   "source": [
    "%whos"
   ]
  },
  {
   "cell_type": "markdown",
   "metadata": {},
   "source": [
    "5. Assign string \"123\" to the variable `S`. Convert the string into a float type and assign the output to the variable `N`. Verify that `S` is a string and `N` is a float using the `type` function."
   ]
  },
  {
   "cell_type": "code",
   "execution_count": 11,
   "metadata": {},
   "outputs": [
    {
     "name": "stdout",
     "output_type": "stream",
     "text": [
      "<class 'str'>\n",
      "<class 'float'>\n"
     ]
    }
   ],
   "source": [
    "S = \"123\"\n",
    "N = float(S)\n",
    "print(type(S))\n",
    "print(type(N))"
   ]
  },
  {
   "cell_type": "markdown",
   "metadata": {},
   "source": [
    "6. Assign the string \"HELLO\" to the variable `s1` and the string \"hello\" to the variable `s2`. Use the `==` operator to show that they are not equal. Use the `==` operator to show that `s1` and `s2` are equal if lower method is used on `s1`, or the if the upper method is used on `s2`."
   ]
  },
  {
   "cell_type": "code",
   "execution_count": 12,
   "metadata": {},
   "outputs": [
    {
     "name": "stdout",
     "output_type": "stream",
     "text": [
      "False\n",
      "True\n",
      "True\n"
     ]
    }
   ],
   "source": [
    "s1 = \"HELLO\"\n",
    "s2 = \"hello\"\n",
    "print(s1 == s2)\n",
    "print(s1.lower() == s2)\n",
    "print(s1 == s2.upper())"
   ]
  },
  {
   "cell_type": "markdown",
   "metadata": {},
   "source": [
    "7. Use the print function to generate the following strings."
   ]
  },
  {
   "cell_type": "code",
   "execution_count": 15,
   "metadata": {},
   "outputs": [
    {
     "name": "stdout",
     "output_type": "stream",
     "text": [
      "The word \"Engineering\" has 11 letters.\n",
      "The word \"Book\" has 4 letters.\n"
     ]
    }
   ],
   "source": [
    "print(\"The word \\\"Engineering\\\" has 11 letters.\")\n",
    "print(\"The word \\\"Book\\\" has 4 letters.\")"
   ]
  },
  {
   "cell_type": "markdown",
   "metadata": {},
   "source": [
    "8. Check if \"Python\" is in \"Python is great!\""
   ]
  },
  {
   "cell_type": "code",
   "execution_count": 22,
   "metadata": {},
   "outputs": [
    {
     "data": {
      "text/plain": [
       "True"
      ]
     },
     "execution_count": 22,
     "metadata": {},
     "output_type": "execute_result"
    }
   ],
   "source": [
    "\"Python\" in \"Python is great!\""
   ]
  },
  {
   "cell_type": "markdown",
   "metadata": {},
   "source": [
    "9. Get the word \"great\" from \"Python is great!\""
   ]
  },
  {
   "cell_type": "code",
   "execution_count": 23,
   "metadata": {},
   "outputs": [
    {
     "data": {
      "text/plain": [
       "'great'"
      ]
     },
     "execution_count": 23,
     "metadata": {},
     "output_type": "execute_result"
    }
   ],
   "source": [
    "\"Python is great!\".split()[-1][:-1]"
   ]
  },
  {
   "cell_type": "markdown",
   "metadata": {},
   "source": [
    "10. Assign the list `[1, 8, 9, 15]` to a variable `list_a` and insert $2$ at index $1$ using the insert method. Append $4$ to `list_a` using the `append` method."
   ]
  },
  {
   "cell_type": "code",
   "execution_count": 26,
   "metadata": {},
   "outputs": [
    {
     "name": "stdout",
     "output_type": "stream",
     "text": [
      "[1, 8, 9, 15]\n",
      "[1, 2, 8, 9, 15]\n",
      "[1, 2, 8, 9, 15, 4]\n"
     ]
    }
   ],
   "source": [
    "list_a = [1,8,9,15]\n",
    "print(list_a)\n",
    "list_a.insert(1,2)\n",
    "print(list_a)\n",
    "list_a.append(4)\n",
    "print(list_a)"
   ]
  },
  {
   "cell_type": "markdown",
   "metadata": {},
   "source": [
    "11. Sort `list_a` in ascending order."
   ]
  },
  {
   "cell_type": "code",
   "execution_count": 27,
   "metadata": {},
   "outputs": [
    {
     "name": "stdout",
     "output_type": "stream",
     "text": [
      "[1, 2, 4, 8, 9, 15]\n"
     ]
    }
   ],
   "source": [
    "list_a.sort()\n",
    "print(list_a)"
   ]
  },
  {
   "cell_type": "markdown",
   "metadata": {},
   "source": [
    "12. Turn \"Python is great!\" into a list."
   ]
  },
  {
   "cell_type": "code",
   "execution_count": 29,
   "metadata": {},
   "outputs": [
    {
     "data": {
      "text/plain": [
       "['P',\n",
       " 'y',\n",
       " 't',\n",
       " 'h',\n",
       " 'o',\n",
       " 'n',\n",
       " ' ',\n",
       " 'i',\n",
       " 's',\n",
       " ' ',\n",
       " 'g',\n",
       " 'r',\n",
       " 'e',\n",
       " 'a',\n",
       " 't',\n",
       " '!']"
      ]
     },
     "execution_count": 29,
     "metadata": {},
     "output_type": "execute_result"
    }
   ],
   "source": [
    "list(\"Python is great!\")"
   ]
  },
  {
   "cell_type": "markdown",
   "metadata": {},
   "source": [
    "13. Create one tuple with elements \"One\",$1$ and assign it to `tuple_a`."
   ]
  },
  {
   "cell_type": "code",
   "execution_count": 30,
   "metadata": {},
   "outputs": [
    {
     "name": "stdout",
     "output_type": "stream",
     "text": [
      "('One', 1)\n"
     ]
    }
   ],
   "source": [
    "tuple_a = (\"One\", 1)\n",
    "print(tuple_a)"
   ]
  },
  {
   "cell_type": "markdown",
   "metadata": {},
   "source": [
    "14. Get the second elements of `tuple_a`."
   ]
  },
  {
   "cell_type": "code",
   "execution_count": 31,
   "metadata": {},
   "outputs": [
    {
     "data": {
      "text/plain": [
       "1"
      ]
     },
     "execution_count": 31,
     "metadata": {},
     "output_type": "execute_result"
    }
   ],
   "source": [
    "tuple_a[1]"
   ]
  },
  {
   "cell_type": "markdown",
   "metadata": {},
   "source": [
    "15. Get the unique elements from $(2,3,2,3,1,2,5)$."
   ]
  },
  {
   "cell_type": "code",
   "execution_count": 33,
   "metadata": {},
   "outputs": [
    {
     "data": {
      "text/plain": [
       "{1, 2, 3, 5}"
      ]
     },
     "execution_count": 33,
     "metadata": {},
     "output_type": "execute_result"
    }
   ],
   "source": [
    "unique = set((2,3,2,3,1,2,5))\n",
    "unique"
   ]
  },
  {
   "cell_type": "markdown",
   "metadata": {},
   "source": [
    "16. Assign $(2,3,2)$ to `set_a` and $(1,2,3)$ to `set_b`. Obtain the following."
   ]
  },
  {
   "cell_type": "code",
   "execution_count": 35,
   "metadata": {},
   "outputs": [
    {
     "name": "stdout",
     "output_type": "stream",
     "text": [
      "{1, 2, 3}\n",
      "{2, 3}\n",
      "set()\n"
     ]
    }
   ],
   "source": [
    "set_a = set((2,3,2))\n",
    "set_b = set((1,2,3))\n",
    "\n",
    "print(set_a | set_b)\n",
    "print(set_a & set_b)\n",
    "print(set_a.difference(set_b))"
   ]
  },
  {
   "cell_type": "markdown",
   "metadata": {},
   "source": [
    "17. Create a dictionary that has the keys \"A\", \"B\", \"C\" with the values \"a\", \"b\", \"c\", respectively. Print all the keys in the dictionary."
   ]
  },
  {
   "cell_type": "code",
   "execution_count": 36,
   "metadata": {},
   "outputs": [
    {
     "data": {
      "text/plain": [
       "dict_keys(['A', 'B', 'C'])"
      ]
     },
     "execution_count": 36,
     "metadata": {},
     "output_type": "execute_result"
    }
   ],
   "source": [
    "mydict = {\"A\":\"a\",\"B\":\"b\",\"C\":\"c\"}\n",
    "mydict.keys()"
   ]
  },
  {
   "cell_type": "markdown",
   "metadata": {},
   "source": [
    "18. Check if key \"B\" is in the dictionary defined above."
   ]
  },
  {
   "cell_type": "code",
   "execution_count": 37,
   "metadata": {},
   "outputs": [
    {
     "data": {
      "text/plain": [
       "True"
      ]
     },
     "execution_count": 37,
     "metadata": {},
     "output_type": "execute_result"
    }
   ],
   "source": [
    "\"B\" in mydict"
   ]
  },
  {
   "cell_type": "markdown",
   "metadata": {},
   "source": [
    "19. Create array `x` and `y`, where `x = [1,4,3,2,9,4]` and `y=[2,3,4,1,2,3]`. Compute the assignments from Problem 3."
   ]
  },
  {
   "cell_type": "code",
   "execution_count": 43,
   "metadata": {},
   "outputs": [],
   "source": [
    "import numpy as np\n",
    "x, y = [1,4,3,2,9,4], [2,3,4,1,2,3]\n",
    "u = x + y\n",
    "# v = x*y Not valid\n",
    "# w = x/y Not valid\n",
    "z = np.sin(x)\n",
    "r = 8*np.sin(x)\n",
    "# s = 5*np.sin(x*y) Not valid\n",
    "# p = x**y Not valid"
   ]
  },
  {
   "cell_type": "markdown",
   "metadata": {},
   "source": [
    "20. Generate an array with size $100$ evenly spaced between $-10$ to $10$ using `linspace` function in `NumPy`."
   ]
  },
  {
   "cell_type": "code",
   "execution_count": 44,
   "metadata": {},
   "outputs": [
    {
     "data": {
      "text/plain": [
       "array([-10.        ,  -9.7979798 ,  -9.5959596 ,  -9.39393939,\n",
       "        -9.19191919,  -8.98989899,  -8.78787879,  -8.58585859,\n",
       "        -8.38383838,  -8.18181818,  -7.97979798,  -7.77777778,\n",
       "        -7.57575758,  -7.37373737,  -7.17171717,  -6.96969697,\n",
       "        -6.76767677,  -6.56565657,  -6.36363636,  -6.16161616,\n",
       "        -5.95959596,  -5.75757576,  -5.55555556,  -5.35353535,\n",
       "        -5.15151515,  -4.94949495,  -4.74747475,  -4.54545455,\n",
       "        -4.34343434,  -4.14141414,  -3.93939394,  -3.73737374,\n",
       "        -3.53535354,  -3.33333333,  -3.13131313,  -2.92929293,\n",
       "        -2.72727273,  -2.52525253,  -2.32323232,  -2.12121212,\n",
       "        -1.91919192,  -1.71717172,  -1.51515152,  -1.31313131,\n",
       "        -1.11111111,  -0.90909091,  -0.70707071,  -0.50505051,\n",
       "        -0.3030303 ,  -0.1010101 ,   0.1010101 ,   0.3030303 ,\n",
       "         0.50505051,   0.70707071,   0.90909091,   1.11111111,\n",
       "         1.31313131,   1.51515152,   1.71717172,   1.91919192,\n",
       "         2.12121212,   2.32323232,   2.52525253,   2.72727273,\n",
       "         2.92929293,   3.13131313,   3.33333333,   3.53535354,\n",
       "         3.73737374,   3.93939394,   4.14141414,   4.34343434,\n",
       "         4.54545455,   4.74747475,   4.94949495,   5.15151515,\n",
       "         5.35353535,   5.55555556,   5.75757576,   5.95959596,\n",
       "         6.16161616,   6.36363636,   6.56565657,   6.76767677,\n",
       "         6.96969697,   7.17171717,   7.37373737,   7.57575758,\n",
       "         7.77777778,   7.97979798,   8.18181818,   8.38383838,\n",
       "         8.58585859,   8.78787879,   8.98989899,   9.19191919,\n",
       "         9.39393939,   9.5959596 ,   9.7979798 ,  10.        ])"
      ]
     },
     "execution_count": 44,
     "metadata": {},
     "output_type": "execute_result"
    }
   ],
   "source": [
    "np.linspace(-10,10,100)"
   ]
  },
  {
   "cell_type": "markdown",
   "metadata": {},
   "source": [
    "21. Let `array_a` be an arary `[-1,0,1,2,0,3]`. Write a command that will return an array consisting of all the elements of `array_a` that are larger than zero."
   ]
  },
  {
   "cell_type": "code",
   "execution_count": 46,
   "metadata": {},
   "outputs": [
    {
     "data": {
      "text/plain": [
       "array([1, 2, 3])"
      ]
     },
     "execution_count": 46,
     "metadata": {},
     "output_type": "execute_result"
    }
   ],
   "source": [
    "array_a = np.array([-1,0,1,2,0,3])\n",
    "array_a[array_a > 0]"
   ]
  },
  {
   "cell_type": "markdown",
   "metadata": {},
   "source": [
    "22. Create an array $y = \\begin{pmatrix} 3 & 5 & 3 \\\\ 2 & 2 & 5 \\\\ 3 & 8 & 9 \\end{pmatrix}$ and calculate its transpose."
   ]
  },
  {
   "cell_type": "code",
   "execution_count": 47,
   "metadata": {},
   "outputs": [
    {
     "name": "stdout",
     "output_type": "stream",
     "text": [
      "[[3 5 3]\n",
      " [2 2 5]\n",
      " [3 8 9]]\n",
      "[[3 2 3]\n",
      " [5 2 8]\n",
      " [3 5 9]]\n"
     ]
    }
   ],
   "source": [
    "y = np.array([[3,5,3],[2,2,5],[3,8,9]])\n",
    "print(y)\n",
    "print(y.T)"
   ]
  },
  {
   "cell_type": "markdown",
   "metadata": {},
   "source": [
    "23. Create a $2 \\times 4$ zero array."
   ]
  },
  {
   "cell_type": "code",
   "execution_count": 52,
   "metadata": {},
   "outputs": [
    {
     "data": {
      "text/plain": [
       "array([[0., 0., 0., 0.],\n",
       "       [0., 0., 0., 0.]])"
      ]
     },
     "execution_count": 52,
     "metadata": {},
     "output_type": "execute_result"
    }
   ],
   "source": [
    "array = np.zeros((2,4))\n",
    "array"
   ]
  },
  {
   "cell_type": "markdown",
   "metadata": {},
   "source": [
    "24. Change the second column in the above array to $1$."
   ]
  },
  {
   "cell_type": "code",
   "execution_count": 54,
   "metadata": {},
   "outputs": [
    {
     "data": {
      "text/plain": [
       "array([[0., 1., 0., 0.],\n",
       "       [0., 1., 0., 0.]])"
      ]
     },
     "execution_count": 54,
     "metadata": {},
     "output_type": "execute_result"
    }
   ],
   "source": [
    "array[:, 1] = 1\n",
    "array"
   ]
  }
 ],
 "metadata": {
  "kernelspec": {
   "display_name": "Python 3",
   "language": "python",
   "name": "python3"
  },
  "language_info": {
   "codemirror_mode": {
    "name": "ipython",
    "version": 3
   },
   "file_extension": ".py",
   "mimetype": "text/x-python",
   "name": "python",
   "nbconvert_exporter": "python",
   "pygments_lexer": "ipython3",
   "version": "3.12.4"
  }
 },
 "nbformat": 4,
 "nbformat_minor": 2
}

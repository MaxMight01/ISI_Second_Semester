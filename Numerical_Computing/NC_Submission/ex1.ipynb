{
 "cells": [
  {
   "cell_type": "markdown",
   "metadata": {},
   "source": [
    "5. Compute the area of a triangle with base $10$ and height $12$."
   ]
  },
  {
   "cell_type": "code",
   "execution_count": 1,
   "metadata": {},
   "outputs": [
    {
     "data": {
      "text/plain": [
       "60.0"
      ]
     },
     "execution_count": 1,
     "metadata": {},
     "output_type": "execute_result"
    }
   ],
   "source": [
    "0.5*10*12"
   ]
  },
  {
   "cell_type": "markdown",
   "metadata": {},
   "source": [
    "6. Compute the surface area and volume of a cylinder with radius $5$ and height $3$."
   ]
  },
  {
   "cell_type": "code",
   "execution_count": 2,
   "metadata": {},
   "outputs": [
    {
     "data": {
      "text/plain": [
       "235.61944901923448"
      ]
     },
     "execution_count": 2,
     "metadata": {},
     "output_type": "execute_result"
    }
   ],
   "source": [
    "import math\n",
    "math.pi*5*5*3"
   ]
  },
  {
   "cell_type": "markdown",
   "metadata": {},
   "source": [
    "7. Compute the slope between the points $(3,4)$ and $(5,9)$."
   ]
  },
  {
   "cell_type": "code",
   "execution_count": 3,
   "metadata": {},
   "outputs": [
    {
     "data": {
      "text/plain": [
       "2.5"
      ]
     },
     "execution_count": 3,
     "metadata": {},
     "output_type": "execute_result"
    }
   ],
   "source": [
    "(9-4)/(5-3)"
   ]
  },
  {
   "cell_type": "markdown",
   "metadata": {},
   "source": [
    "8. Compute the distance between the points $(3,4)$ and $(5,9)$."
   ]
  },
  {
   "cell_type": "code",
   "execution_count": 4,
   "metadata": {},
   "outputs": [
    {
     "data": {
      "text/plain": [
       "5.385164807134504"
      ]
     },
     "execution_count": 4,
     "metadata": {},
     "output_type": "execute_result"
    }
   ],
   "source": [
    "((5-3)**2 + (9-4)**2)**0.5"
   ]
  },
  {
   "cell_type": "markdown",
   "metadata": {},
   "source": [
    "9. Use Python's `factorial` to compute 6!"
   ]
  },
  {
   "cell_type": "code",
   "execution_count": 6,
   "metadata": {},
   "outputs": [
    {
     "data": {
      "text/plain": [
       "720"
      ]
     },
     "execution_count": 6,
     "metadata": {},
     "output_type": "execute_result"
    }
   ],
   "source": [
    "math.factorial(6)"
   ]
  },
  {
   "cell_type": "markdown",
   "metadata": {},
   "source": [
    "10. Compute the number of leapyears between the years $1500$ and $2010$."
   ]
  },
  {
   "cell_type": "code",
   "execution_count": 8,
   "metadata": {},
   "outputs": [
    {
     "data": {
      "text/plain": [
       "124"
      ]
     },
     "execution_count": 8,
     "metadata": {},
     "output_type": "execute_result"
    }
   ],
   "source": [
    "def is_leap(year):\n",
    "    if year%400 == 0:\n",
    "        return True\n",
    "    elif year%100 == 0:\n",
    "        return False\n",
    "    elif year%4 == 0:\n",
    "        return True\n",
    "    else:\n",
    "        return False\n",
    "\n",
    "leap_year_sum = 0\n",
    "for i in range(1500,2010+1):\n",
    "    if is_leap(i):\n",
    "        leap_year_sum += 1\n",
    "\n",
    "leap_year_sum"
   ]
  },
  {
   "cell_type": "markdown",
   "metadata": {},
   "source": [
    "11. Use Ramanujan's formula for $N=0$ and $N=1$ to approximate $\\pi$. Compare your approxmiation."
   ]
  },
  {
   "cell_type": "code",
   "execution_count": 11,
   "metadata": {},
   "outputs": [
    {
     "name": "stdout",
     "output_type": "stream",
     "text": [
      "For N=0, 3.1415927300133055\n",
      "For N=1, 3.141592653589794\n",
      "Python's pi, 3.141592653589793\n",
      "Relative error percentage: 2.8271597168564595e-14%\n"
     ]
    }
   ],
   "source": [
    "def Ramanujan_sum(N):\n",
    "    sum = 0\n",
    "    for k in range(0, N+1):\n",
    "        sum += math.factorial(4*k)*(1103+26390*k)/((math.factorial(k)**4)*(396**(4*k)))\n",
    "    sum = (2**1.5)*sum/9801\n",
    "    return 1/sum\n",
    "\n",
    "print(f\"For N=0, {Ramanujan_sum(0)}\")\n",
    "print(f\"For N=1, {Ramanujan_sum(1)}\")\n",
    "print(f\"Python's pi, {math.pi}\")\n",
    "print(f\"Relative error percentage: {((Ramanujan_sum(1)-math.pi)/math.pi)*100}%\")\n"
   ]
  },
  {
   "cell_type": "markdown",
   "metadata": {},
   "source": [
    "12. Compute $\\text{sinh}$ for $x = 2$ and verify the result."
   ]
  },
  {
   "cell_type": "code",
   "execution_count": 16,
   "metadata": {},
   "outputs": [
    {
     "name": "stdout",
     "output_type": "stream",
     "text": [
      "sinh(2) = 3.6268604078470186\n",
      "Python's sinh(2) = 3.6268604078470186\n"
     ]
    }
   ],
   "source": [
    "e = math.exp(1)\n",
    "\n",
    "sinh = lambda x: (e**x - e**(-x))/2\n",
    "\n",
    "print(f\"sinh(2) = {sinh(2)}\")\n",
    "print(f\"Python's sinh(2) = {math.sinh(2)}\")"
   ]
  },
  {
   "cell_type": "markdown",
   "metadata": {},
   "source": [
    "13. Verify that $\\sin^{2}(x) + \\cos^{2}(x)$ for $x = \\pi, \\frac{\\pi}{2}, \\frac{\\pi}{4}, \\frac{\\pi}{6}$."
   ]
  },
  {
   "cell_type": "code",
   "execution_count": 17,
   "metadata": {},
   "outputs": [
    {
     "name": "stdout",
     "output_type": "stream",
     "text": [
      "For x = pi, 1.0\n",
      "For x = pi/2, 1.0\n",
      "For x = pi/4, 1.0000000000000002\n",
      "For x = pi/6, 1.0\n"
     ]
    }
   ],
   "source": [
    "trig_iden = lambda x: (math.sin(x))**2 + (math.cos(x))**2\n",
    "\n",
    "print(f\"For x = pi, {trig_iden(math.pi)}\")\n",
    "print(f\"For x = pi/2, {trig_iden(math.pi/2)}\")\n",
    "print(f\"For x = pi/4, {trig_iden(math.pi/4)}\")\n",
    "print(f\"For x = pi/6, {trig_iden(math.pi/6)}\")"
   ]
  },
  {
   "cell_type": "markdown",
   "metadata": {},
   "source": [
    "14. Compute $\\sin 87^{\\circ}$."
   ]
  },
  {
   "cell_type": "code",
   "execution_count": 18,
   "metadata": {},
   "outputs": [
    {
     "data": {
      "text/plain": [
       "0.9986295347545738"
      ]
     },
     "execution_count": 18,
     "metadata": {},
     "output_type": "execute_result"
    }
   ],
   "source": [
    "math.sin(87*(math.pi/180))"
   ]
  },
  {
   "cell_type": "markdown",
   "metadata": {},
   "source": [
    "15. Write a Python statement that generates the following error: `AttributeError: module ‘math’ has no attribute ‘sni’`."
   ]
  },
  {
   "cell_type": "code",
   "execution_count": 19,
   "metadata": {},
   "outputs": [
    {
     "ename": "AttributeError",
     "evalue": "module 'math' has no attribute 'sni'",
     "output_type": "error",
     "traceback": [
      "\u001b[1;31m---------------------------------------------------------------------------\u001b[0m",
      "\u001b[1;31mAttributeError\u001b[0m                            Traceback (most recent call last)",
      "Cell \u001b[1;32mIn[19], line 1\u001b[0m\n\u001b[1;32m----> 1\u001b[0m \u001b[43mmath\u001b[49m\u001b[38;5;241;43m.\u001b[39;49m\u001b[43msni\u001b[49m(\u001b[38;5;241m2\u001b[39m)\n",
      "\u001b[1;31mAttributeError\u001b[0m: module 'math' has no attribute 'sni'"
     ]
    }
   ],
   "source": [
    "math.sni(2)"
   ]
  },
  {
   "cell_type": "markdown",
   "metadata": {},
   "source": [
    "16. Write a Python statement that generates the following error: `TypeError: sin() takes exactly one argument (0 given)`."
   ]
  },
  {
   "cell_type": "code",
   "execution_count": 21,
   "metadata": {},
   "outputs": [
    {
     "ename": "TypeError",
     "evalue": "math.sin() takes exactly one argument (0 given)",
     "output_type": "error",
     "traceback": [
      "\u001b[1;31m---------------------------------------------------------------------------\u001b[0m",
      "\u001b[1;31mTypeError\u001b[0m                                 Traceback (most recent call last)",
      "Cell \u001b[1;32mIn[21], line 1\u001b[0m\n\u001b[1;32m----> 1\u001b[0m \u001b[43mmath\u001b[49m\u001b[38;5;241;43m.\u001b[39;49m\u001b[43msin\u001b[49m\u001b[43m(\u001b[49m\u001b[43m)\u001b[49m\n",
      "\u001b[1;31mTypeError\u001b[0m: math.sin() takes exactly one argument (0 given)"
     ]
    }
   ],
   "source": [
    "math.sin()"
   ]
  },
  {
   "cell_type": "markdown",
   "metadata": {},
   "source": [
    "17. If $P$ is a logical expression, the law of noncontradiction states that $P$ AND (NOT $P$) is always false. Verify this for $P$ true and $P$ false."
   ]
  },
  {
   "cell_type": "code",
   "execution_count": 24,
   "metadata": {},
   "outputs": [
    {
     "name": "stdout",
     "output_type": "stream",
     "text": [
      "False\n",
      "False\n",
      "False\n"
     ]
    }
   ],
   "source": [
    "def non_contradiction(P: bool) -> bool:\n",
    "    return P and not P\n",
    "\n",
    "print(non_contradiction(True))\n",
    "print(non_contradiction(False))"
   ]
  },
  {
   "cell_type": "markdown",
   "metadata": {},
   "source": [
    "18. Let $P$ and $Q$ be logical expression. De Morgan's rule states that NOT ($P$ OR $Q$) = (NOT $P$) AND (NOT $Q$) and NOT ($P$ AND $Q$) = (NOT $P$) OR (NOT $Q$). Generate the truth tables for each statement to show that De Morgan's rule is always true."
   ]
  },
  {
   "cell_type": "code",
   "execution_count": 26,
   "metadata": {},
   "outputs": [
    {
     "name": "stdout",
     "output_type": "stream",
     "text": [
      "De Morgan 1 verified for P True and Q True\n",
      "De Morgan 2 verified for P True and Q True\n",
      "De Morgan 1 verified for P True and Q False\n",
      "De Morgan 2 verified for P True and Q False\n",
      "De Morgan 1 verified for P False and Q True\n",
      "De Morgan 2 verified for P False and Q True\n",
      "De Morgan 1 verified for P False and Q False\n",
      "De Morgan 2 verified for P False and Q False\n"
     ]
    }
   ],
   "source": [
    "def demorgan1(P: bool, Q: bool) -> bool:\n",
    "    return not (P or Q), (not P) and (not Q)\n",
    "\n",
    "def demorgan2(P: bool, Q: bool) -> bool:\n",
    "    return not (P and Q), (not P) or (not Q)\n",
    "\n",
    "mylist = [True, False]\n",
    "\n",
    "for P in mylist:\n",
    "    for Q in mylist:\n",
    "        LHS, RHS = demorgan1(P, Q)\n",
    "        if LHS == RHS:\n",
    "            print(f\"De Morgan 1 verified for P {P} and Q {Q}\")\n",
    "        LHS, RHS = demorgan2(P, Q)\n",
    "        if LHS == RHS:\n",
    "            print(f\"De Morgan 2 verified for P {P} and Q {Q}\")"
   ]
  },
  {
   "cell_type": "markdown",
   "metadata": {},
   "source": [
    "19. Under what conditions for $P$ and $Q$ is ($P$ AND $Q$) OR ($P$ AND (NOT $Q$)) false?"
   ]
  },
  {
   "cell_type": "code",
   "execution_count": 28,
   "metadata": {},
   "outputs": [
    {
     "name": "stdout",
     "output_type": "stream",
     "text": [
      "For P True and Q True, the statement is True.\n",
      "For P True and Q False, the statement is True.\n",
      "For P False and Q True, the statement is False.\n",
      "For P False and Q False, the statement is False.\n"
     ]
    }
   ],
   "source": [
    "def statement(P: bool, Q: bool) -> bool:\n",
    "    return (P and Q) or (P and (not Q))\n",
    "\n",
    "mylist = [True, False]\n",
    "\n",
    "for P in mylist:\n",
    "    for Q in mylist:\n",
    "        print(f\"For P {P} and Q {Q}, the statement is {statement(P, Q)}.\")\n"
   ]
  },
  {
   "cell_type": "markdown",
   "metadata": {},
   "source": [
    "20. Construct an equivalent logical expression for OR using only AND and NOT."
   ]
  },
  {
   "cell_type": "code",
   "execution_count": 29,
   "metadata": {},
   "outputs": [
    {
     "name": "stdout",
     "output_type": "stream",
     "text": [
      "pseudo_OR(True, True) = True\n",
      "pseudo_OR(True, False) = True\n",
      "pseudo_OR(False, True) = True\n",
      "pseudo_OR(False, False) = False\n"
     ]
    }
   ],
   "source": [
    "def pseudo_OR(P: bool, Q: bool) -> bool:\n",
    "    return not ((not P) and (not Q)) # No or's used.\n",
    "\n",
    "mylist = [True, False]\n",
    "\n",
    "for P in mylist:\n",
    "    for Q in mylist:\n",
    "        print(f\"pseudo_OR({P}, {Q}) = {pseudo_OR(P, Q)}\")\n"
   ]
  },
  {
   "cell_type": "markdown",
   "metadata": {},
   "source": [
    "21. Construct an equivalent logical expression for AND using only OR and NOT."
   ]
  },
  {
   "cell_type": "code",
   "execution_count": 30,
   "metadata": {},
   "outputs": [
    {
     "name": "stdout",
     "output_type": "stream",
     "text": [
      "pseudo_AND(True, True) = True\n",
      "pseudo_AND(True, False) = False\n",
      "pseudo_AND(False, True) = False\n",
      "pseudo_AND(False, False) = False\n"
     ]
    }
   ],
   "source": [
    "def pseudo_AND(P: bool, Q: bool) -> bool:\n",
    "    return not ((not P) or (not Q)) # No or's used.\n",
    "\n",
    "mylist = [True, False]\n",
    "\n",
    "for P in mylist:\n",
    "    for Q in mylist:\n",
    "        print(f\"pseudo_AND({P}, {Q}) = {pseudo_AND(P, Q)}\")\n"
   ]
  },
  {
   "cell_type": "markdown",
   "metadata": {},
   "source": [
    "22. Construct an equivalent logical expression\n",
    "for XOR using only AND, OR, and NOT."
   ]
  },
  {
   "cell_type": "code",
   "execution_count": 31,
   "metadata": {},
   "outputs": [
    {
     "name": "stdout",
     "output_type": "stream",
     "text": [
      "XOR(True, True) = False\n",
      "XOR(True, False) = True\n",
      "XOR(False, True) = True\n",
      "XOR(False, False) = False\n"
     ]
    }
   ],
   "source": [
    "def XOR(P: bool, Q: bool) -> bool:\n",
    "    return (not P and Q) or (P and not Q)\n",
    "\n",
    "mylist = [True, False]\n",
    "\n",
    "for P in mylist:\n",
    "    for Q in mylist:\n",
    "        print(f\"XOR({P}, {Q}) = {XOR(P, Q)}\")\n"
   ]
  }
 ],
 "metadata": {
  "kernelspec": {
   "display_name": "Python 3",
   "language": "python",
   "name": "python3"
  },
  "language_info": {
   "codemirror_mode": {
    "name": "ipython",
    "version": 3
   },
   "file_extension": ".py",
   "mimetype": "text/x-python",
   "name": "python",
   "nbconvert_exporter": "python",
   "pygments_lexer": "ipython3",
   "version": "3.12.4"
  }
 },
 "nbformat": 4,
 "nbformat_minor": 2
}

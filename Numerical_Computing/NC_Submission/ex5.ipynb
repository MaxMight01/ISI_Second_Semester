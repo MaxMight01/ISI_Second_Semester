{
 "cells": [
  {
   "cell_type": "markdown",
   "metadata": {},
   "source": [
    "4. Let `m` be a matrix of positive integers. Write a function `my_trig_odd_even(m)` to return an array `q` where `q[i,j] = sin(m[i,j])` if `m[i,j]` is even, and `q[i,j] = cos(m[i,j])` if `m[i,j]` is odd."
   ]
  },
  {
   "cell_type": "code",
   "execution_count": 4,
   "metadata": {},
   "outputs": [
    {
     "name": "stdout",
     "output_type": "stream",
     "text": [
      "[[0.0, 0.5403023058681398], [0.5403023058681398, 0.0]]\n"
     ]
    }
   ],
   "source": [
    "import numpy as np\n",
    "\n",
    "def my_trig_odd_even(m):\n",
    "    for i in range(len(m)):\n",
    "        for j in range(len(m[0])):\n",
    "            value = m[i][j]\n",
    "            if value%2 == 0:\n",
    "                m[i][j] = np.sin(m[i][j])\n",
    "            else:\n",
    "                m[i][j] = np.cos(m[i][j])\n",
    "    return m\n",
    "\n",
    "print(my_trig_odd_even([[0,1],[1,0]]))"
   ]
  },
  {
   "cell_type": "markdown",
   "metadata": {},
   "source": [
    "5. Let `P` be an $m \\times p$ array and `Q` be a $p \\times n$ array. Write a function `my_mat_mult(P,Q)` that uses `for loops` to compute `M`, the matrix product of `P * Q`."
   ]
  },
  {
   "cell_type": "code",
   "execution_count": 8,
   "metadata": {},
   "outputs": [
    {
     "name": "stdout",
     "output_type": "stream",
     "text": [
      "[[30. 30. 30.]\n",
      " [70. 70. 70.]]\n"
     ]
    }
   ],
   "source": [
    "import numpy as np\n",
    "\n",
    "def my_mat_mult(P,Q):\n",
    "    m = len(P)\n",
    "    p = len(P[0])\n",
    "    n = len(Q[0])\n",
    "\n",
    "    M = np.zeros((m, n))\n",
    "    for i in range(m):\n",
    "        for j in range(n):\n",
    "            sum = 0\n",
    "            for k in range(p):\n",
    "                sum += P[i][k]*Q[k][j]\n",
    "            M[i][j] = sum\n",
    "\n",
    "    return M\n",
    "\n",
    "P = np.array([[1,2,3,4],[5,6,7,8]])\n",
    "Q = np.array([[1,1,1],[2,2,2],[3,3,3],[4,4,4]])\n",
    "print(my_mat_mult(P,Q))"
   ]
  },
  {
   "cell_type": "markdown",
   "metadata": {},
   "source": [
    "8. Assume you are rolling two six-sided dice, with each side having an equal chance of occuring. Write a function `my_monopoly_dice()` where the output is the sum of the values of two dice thrown but with the following extra rule: if the two dice rolls are the same, then another roll is made, and the new sum is added to the running total. For example, if the two dice show $3$ and $4$, then the running total should be $7$. If the two dice show $1$ and $1$, then the running total should be $2$ plus the total of another throw. Rolls stop when the dice rolls are different."
   ]
  },
  {
   "cell_type": "code",
   "execution_count": 22,
   "metadata": {},
   "outputs": [
    {
     "name": "stdout",
     "output_type": "stream",
     "text": [
      "(4, 4)\n",
      "(1, 4)\n",
      "13\n"
     ]
    }
   ],
   "source": [
    "import random\n",
    "\n",
    "def my_monopoly_dice():\n",
    "    dice1 = random.randint(1,6)\n",
    "    dice2 = random.randint(1,6)\n",
    "    print((dice1,dice2))\n",
    "    total = dice1 + dice2\n",
    "\n",
    "    while dice1 == dice2:\n",
    "        dice1 = random.randint(1,6)\n",
    "        dice2 = random.randint(1,6)\n",
    "        print((dice1,dice2))\n",
    "        total += dice1 + dice2\n",
    "\n",
    "    return total\n",
    "\n",
    "print(my_monopoly_dice())\n"
   ]
  },
  {
   "cell_type": "markdown",
   "metadata": {},
   "source": [
    "10. Write a function `my_n_primes(n)` where prime is a list of the first `n` primes. Assume that `n` is a strictly positive integer."
   ]
  },
  {
   "cell_type": "code",
   "execution_count": 27,
   "metadata": {},
   "outputs": [
    {
     "name": "stdout",
     "output_type": "stream",
     "text": [
      "[2, 3, 5, 7, 11, 13, 17, 19, 23, 29]\n"
     ]
    }
   ],
   "source": [
    "def my_n_primes(n):\n",
    "    prime_list = []\n",
    "\n",
    "    candidate = 2\n",
    "    while len(prime_list) < n:\n",
    "        is_prime = True\n",
    "        for i in prime_list:\n",
    "            if candidate%i == 0:\n",
    "                is_prime = False\n",
    "                break\n",
    "        if is_prime == True:\n",
    "            prime_list.append(candidate)\n",
    "        candidate += 1\n",
    "\n",
    "    return prime_list\n",
    "\n",
    "print(my_n_primes(10))"
   ]
  },
  {
   "cell_type": "markdown",
   "metadata": {},
   "source": [
    "13. Let `C` be a square connectivity array containing zeros and ones. Point $i$ has a connection to point $j$, or $i$ is connected to $j$, if `C[i,j]=1`. Note that connections in this context are one-directional meaning `C[i,j]` is not necessarily the same as `C[j,i]`. Write a function `my_connectivity_mat_2_dict(C, names)` where `C` is a connectivity array and `names` is a list os strings that denote the name of a point. That is, `names[i]` is the name of the `i`the point. The output variable `node` should be a dictionary with the key as the string in `names`, and value is a vector containing the indices `j`, such that `C[i,j]=1`. In other words, it is a list of points that point `i` is connected to."
   ]
  },
  {
   "cell_type": "code",
   "execution_count": 33,
   "metadata": {},
   "outputs": [
    {
     "name": "stdout",
     "output_type": "stream",
     "text": [
      "node[\"Los Angeles\"] = [2, 4]\n",
      "node[\"New York\"] = [1, 4]\n",
      "node[\"Miami\"] = [4]\n",
      "node[\"Dallas\"] = [1, 2, 3]\n"
     ]
    }
   ],
   "source": [
    "import numpy as np\n",
    "\n",
    "def my_connectivity_mat_2_dict(C,names):\n",
    "    node = {}\n",
    "    for name in names:\n",
    "        node[name] = []\n",
    "\n",
    "    for i in range(len(C)):\n",
    "        for j in range(len(C[0])):\n",
    "            if C[i][j] == 1:\n",
    "                node[names[i]].append(j+1)\n",
    "\n",
    "    return node\n",
    "\n",
    "C = [[0,1,0,1],[1,0,0,1],[0,0,0,1],[1,1,1,0]]\n",
    "names = [\"Los Angeles\", \"New York\", \"Miami\", \"Dallas\"]\n",
    "\n",
    "node = my_connectivity_mat_2_dict(C,names)\n",
    "for name in node.keys():\n",
    "    print(f\"node[\\\"{name}\\\"] = {node[name]}\")"
   ]
  }
 ],
 "metadata": {
  "kernelspec": {
   "display_name": "Python 3",
   "language": "python",
   "name": "python3"
  },
  "language_info": {
   "codemirror_mode": {
    "name": "ipython",
    "version": 3
   },
   "file_extension": ".py",
   "mimetype": "text/x-python",
   "name": "python",
   "nbconvert_exporter": "python",
   "pygments_lexer": "ipython3",
   "version": "3.12.4"
  }
 },
 "nbformat": 4,
 "nbformat_minor": 2
}
